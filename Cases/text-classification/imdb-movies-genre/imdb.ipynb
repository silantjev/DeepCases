{
 "cells": [
  {
   "cell_type": "code",
   "execution_count": 119,
   "id": "effc1b41",
   "metadata": {
    "ExecuteTime": {
     "end_time": "2025-09-30T19:17:06.710717Z",
     "start_time": "2025-09-30T19:17:06.670438Z"
    }
   },
   "outputs": [],
   "source": [
    "import sys\n",
    "import pandas as pd\n",
    "import numpy as np\n",
    "from matplotlib import pyplot as plt\n",
    "from sklearn.metrics import f1_score\n",
    "import torch\n",
    "from torch import nn\n",
    "sys.path.insert(0, 'bin')"
   ]
  },
  {
   "cell_type": "code",
   "execution_count": 118,
   "id": "bc7cf813",
   "metadata": {
    "ExecuteTime": {
     "end_time": "2025-09-30T19:17:02.668412Z",
     "start_time": "2025-09-30T19:17:02.625927Z"
    },
    "scrolled": true
   },
   "outputs": [
    {
     "name": "stdout",
     "output_type": "stream",
     "text": [
      "The autoreload extension is already loaded. To reload it, use:\n",
      "  %reload_ext autoreload\n"
     ]
    }
   ],
   "source": [
    "#local imports from the folder bin/\n",
    "%load_ext autoreload\n",
    "%autoreload 2\n",
    "\n",
    "from split_data import split_train\n",
    "from genre_encoder import GenreEncoder\n",
    "from tokenizator import Tokenizer\n",
    "from vocab import make_vocab\n",
    "from prepare_data import DataPreprocessor, preprocess\n",
    "from seq_dataset import SeqDataset, make_dataloader\n",
    "from trainer import Trainer, freeze\n",
    "from load_data import load_npz\n",
    "from visualize import compare_on_plot\n",
    "from models.rnn import RNNModel\n",
    "from models.transformer import TransformerClassifier, AddCLS, PositionalEncoding"
   ]
  },
  {
   "cell_type": "markdown",
   "id": "3d99d320",
   "metadata": {},
   "source": [
    "# Подготовка данных"
   ]
  },
  {
   "cell_type": "markdown",
   "id": "9c8cf25a",
   "metadata": {
    "heading_collapsed": true
   },
   "source": [
    "## Разделение на train и val"
   ]
  },
  {
   "cell_type": "markdown",
   "id": "16bc45e7",
   "metadata": {
    "hidden": true
   },
   "source": [
    "Сначала разделим train на train и val в пропорции 3:1 и сохраним в `data/train75.pq`, `data/val25.pq` (осуществляется скриптом `split_data.py`)"
   ]
  },
  {
   "cell_type": "code",
   "execution_count": 3,
   "id": "142ad928",
   "metadata": {
    "ExecuteTime": {
     "end_time": "2025-09-28T15:04:07.757711Z",
     "start_time": "2025-09-28T15:04:07.079311Z"
    },
    "hidden": true,
    "scrolled": true
   },
   "outputs": [],
   "source": [
    "split_train(path='train.csv', val_percent=25)"
   ]
  },
  {
   "cell_type": "code",
   "execution_count": 4,
   "id": "7b0779bb",
   "metadata": {
    "ExecuteTime": {
     "end_time": "2025-09-28T15:04:07.949864Z",
     "start_time": "2025-09-28T15:04:07.759809Z"
    },
    "hidden": true
   },
   "outputs": [
    {
     "data": {
      "text/html": [
       "<div>\n",
       "<style scoped>\n",
       "    .dataframe tbody tr th:only-of-type {\n",
       "        vertical-align: middle;\n",
       "    }\n",
       "\n",
       "    .dataframe tbody tr th {\n",
       "        vertical-align: top;\n",
       "    }\n",
       "\n",
       "    .dataframe thead th {\n",
       "        text-align: right;\n",
       "    }\n",
       "</style>\n",
       "<table border=\"1\" class=\"dataframe\">\n",
       "  <thead>\n",
       "    <tr style=\"text-align: right;\">\n",
       "      <th></th>\n",
       "      <th>name</th>\n",
       "      <th>genre</th>\n",
       "      <th>text</th>\n",
       "    </tr>\n",
       "  </thead>\n",
       "  <tbody>\n",
       "    <tr>\n",
       "      <th>34357</th>\n",
       "      <td>\"Un prete tra noi\" (1997)</td>\n",
       "      <td>drama</td>\n",
       "      <td>Marco is a cultivated and intelligent priest....</td>\n",
       "    </tr>\n",
       "    <tr>\n",
       "      <th>23523</th>\n",
       "      <td>Canadian Dream (2011)</td>\n",
       "      <td>drama</td>\n",
       "      <td>When Amar immigrated to Canada, he brought wi...</td>\n",
       "    </tr>\n",
       "    <tr>\n",
       "      <th>250</th>\n",
       "      <td>My tattoo (2016)</td>\n",
       "      <td>drama</td>\n",
       "      <td>In 2016, Shiho is going to marry her fiance b...</td>\n",
       "    </tr>\n",
       "    <tr>\n",
       "      <th>23237</th>\n",
       "      <td>Ju san liang yi yi (1980)</td>\n",
       "      <td>romance</td>\n",
       "      <td>Old 1970/80 Taiwanese romance movie. Errant L...</td>\n",
       "    </tr>\n",
       "    <tr>\n",
       "      <th>17707</th>\n",
       "      <td>\"My Auntie's Tall Tales\" (2017)</td>\n",
       "      <td>family</td>\n",
       "      <td>Six-year-old Theodor has been allowed to acco...</td>\n",
       "    </tr>\n",
       "    <tr>\n",
       "      <th>...</th>\n",
       "      <td>...</td>\n",
       "      <td>...</td>\n",
       "      <td>...</td>\n",
       "    </tr>\n",
       "    <tr>\n",
       "      <th>23712</th>\n",
       "      <td>Miami Our City (2016/II)</td>\n",
       "      <td>documentary</td>\n",
       "      <td>Miami Our City is a film that examines the in...</td>\n",
       "    </tr>\n",
       "    <tr>\n",
       "      <th>10028</th>\n",
       "      <td>Niloye Jokhon (2012)</td>\n",
       "      <td>drama</td>\n",
       "      <td>Home is where you feel ..... at home! It is a...</td>\n",
       "    </tr>\n",
       "    <tr>\n",
       "      <th>31017</th>\n",
       "      <td>\"After MASH\" (1983)</td>\n",
       "      <td>comedy</td>\n",
       "      <td>Mildred takes a bus to Poplar Bluff, Missouri...</td>\n",
       "    </tr>\n",
       "    <tr>\n",
       "      <th>31161</th>\n",
       "      <td>Shôto hôpu (2014)</td>\n",
       "      <td>drama</td>\n",
       "      <td>An elementary school student Kazuya lives wit...</td>\n",
       "    </tr>\n",
       "    <tr>\n",
       "      <th>45917</th>\n",
       "      <td>\"Don't Make Me Angry\" (2005)</td>\n",
       "      <td>documentary</td>\n",
       "      <td>Being an angry teenager can damage your healt...</td>\n",
       "    </tr>\n",
       "  </tbody>\n",
       "</table>\n",
       "<p>40660 rows × 3 columns</p>\n",
       "</div>"
      ],
      "text/plain": [
       "                                    name        genre  \\\n",
       "34357         \"Un prete tra noi\" (1997)         drama   \n",
       "23523             Canadian Dream (2011)         drama   \n",
       "250                    My tattoo (2016)         drama   \n",
       "23237         Ju san liang yi yi (1980)       romance   \n",
       "17707   \"My Auntie's Tall Tales\" (2017)        family   \n",
       "...                                  ...          ...   \n",
       "23712          Miami Our City (2016/II)   documentary   \n",
       "10028              Niloye Jokhon (2012)         drama   \n",
       "31017               \"After MASH\" (1983)        comedy   \n",
       "31161                 Shôto hôpu (2014)         drama   \n",
       "45917      \"Don't Make Me Angry\" (2005)   documentary   \n",
       "\n",
       "                                                    text  \n",
       "34357   Marco is a cultivated and intelligent priest....  \n",
       "23523   When Amar immigrated to Canada, he brought wi...  \n",
       "250     In 2016, Shiho is going to marry her fiance b...  \n",
       "23237   Old 1970/80 Taiwanese romance movie. Errant L...  \n",
       "17707   Six-year-old Theodor has been allowed to acco...  \n",
       "...                                                  ...  \n",
       "23712   Miami Our City is a film that examines the in...  \n",
       "10028   Home is where you feel ..... at home! It is a...  \n",
       "31017   Mildred takes a bus to Poplar Bluff, Missouri...  \n",
       "31161   An elementary school student Kazuya lives wit...  \n",
       "45917   Being an angry teenager can damage your healt...  \n",
       "\n",
       "[40660 rows x 3 columns]"
      ]
     },
     "execution_count": 4,
     "metadata": {},
     "output_type": "execute_result"
    }
   ],
   "source": [
    "df_train = pd.read_parquet('data/train75.pq')\n",
    "df_train"
   ]
  },
  {
   "cell_type": "markdown",
   "id": "31ccf6df",
   "metadata": {
    "heading_collapsed": true
   },
   "source": [
    "## Таргет-классы"
   ]
  },
  {
   "cell_type": "markdown",
   "id": "079ebbd4",
   "metadata": {
    "hidden": true
   },
   "source": [
    "Задача — определить жанр фильма по названию и описанию, т.е. классификация с несколькими классами"
   ]
  },
  {
   "cell_type": "code",
   "execution_count": 5,
   "id": "2aa5839a",
   "metadata": {
    "ExecuteTime": {
     "end_time": "2025-09-28T15:04:07.992199Z",
     "start_time": "2025-09-28T15:04:07.952967Z"
    },
    "hidden": true
   },
   "outputs": [
    {
     "data": {
      "text/plain": [
       "drama          10210\n",
       "documentary     9822\n",
       "comedy          5585\n",
       "short           3805\n",
       "horror          1653\n",
       "thriller        1193\n",
       "action           986\n",
       "western          774\n",
       "reality-tv       663\n",
       "family           588\n",
       "adventure        581\n",
       "music            548\n",
       "romance          504\n",
       "sci-fi           485\n",
       "adult            442\n",
       "crime            379\n",
       "animation        374\n",
       "sport            324\n",
       "talk-show        293\n",
       "fantasy          242\n",
       "mystery          239\n",
       "musical          208\n",
       "biography        199\n",
       "history          182\n",
       "game-show        146\n",
       "news             136\n",
       "war               99\n",
       "Name: genre, dtype: int64"
      ]
     },
     "execution_count": 5,
     "metadata": {},
     "output_type": "execute_result"
    }
   ],
   "source": [
    "df_train.genre.value_counts()"
   ]
  },
  {
   "cell_type": "markdown",
   "id": "016adc21",
   "metadata": {
    "hidden": true
   },
   "source": [
    "Классы несбалансированы"
   ]
  },
  {
   "cell_type": "code",
   "execution_count": 6,
   "id": "cc8e9dd6",
   "metadata": {
    "ExecuteTime": {
     "end_time": "2025-09-28T15:04:08.013592Z",
     "start_time": "2025-09-28T15:04:07.993639Z"
    },
    "hidden": true
   },
   "outputs": [
    {
     "data": {
      "text/plain": [
       "array(['drama', 'romance', 'family', 'documentary', 'comedy', 'action',\n",
       "       'western', 'short', 'horror', 'music', 'talk-show', 'thriller',\n",
       "       'sci-fi', 'reality-tv', 'game-show', 'adventure', 'mystery',\n",
       "       'biography', 'adult', 'animation', 'musical', 'fantasy', 'sport',\n",
       "       'war', 'history', 'crime', 'news'], dtype=object)"
      ]
     },
     "execution_count": 6,
     "metadata": {},
     "output_type": "execute_result"
    }
   ],
   "source": [
    "df_train.genre.unique()"
   ]
  },
  {
   "cell_type": "markdown",
   "id": "3deb03be",
   "metadata": {
    "hidden": true
   },
   "source": [
    "Для кодирования жанров будем использовать специальный энкодер жанров `GenreEncoder` из `genre_encoder.py`.\n",
    "\n",
    "Подгрузим энкодер жанров и, если он ещё не «обучен» (т.е. если нет файла `data/train75_genres.txt` со списком жанров), то обучим его на `df_train`"
   ]
  },
  {
   "cell_type": "code",
   "execution_count": 8,
   "id": "25321437",
   "metadata": {
    "ExecuteTime": {
     "end_time": "2025-09-28T15:04:08.051728Z",
     "start_time": "2025-09-28T15:04:08.033802Z"
    },
    "hidden": true
   },
   "outputs": [],
   "source": [
    "genre_enc = GenreEncoder(txt_path='train75_genres.txt')\n",
    "# Относительные пути — пути к файлам в 'data/'\n",
    "if not genre_enc.ready():\n",
    "    genre_enc.fit(df_train['genre'])"
   ]
  },
  {
   "cell_type": "code",
   "execution_count": 9,
   "id": "18b4ef78",
   "metadata": {
    "ExecuteTime": {
     "end_time": "2025-09-28T15:04:08.070845Z",
     "start_time": "2025-09-28T15:04:08.053251Z"
    },
    "hidden": true
   },
   "outputs": [
    {
     "name": "stdout",
     "output_type": "stream",
     "text": [
      "['drama', 'romance', 'family', 'documentary', 'comedy', 'action', 'western', 'short', 'horror', 'music', 'talk-show', 'thriller', 'sci-fi', 'reality-tv', 'game-show', 'adventure', 'mystery', 'biography', 'adult', 'animation', 'musical', 'fantasy', 'sport', 'war', 'history', 'crime', 'news', '<other>']\n"
     ]
    }
   ],
   "source": [
    "assert genre_enc.ready()\n",
    "print(genre_enc.genres)"
   ]
  },
  {
   "cell_type": "markdown",
   "id": "1c3fcd80",
   "metadata": {
    "hidden": true
   },
   "source": [
    "`genre_enc` имеет методы для кодирования жанра в числа, и обратно"
   ]
  },
  {
   "cell_type": "code",
   "execution_count": 10,
   "id": "b180210e",
   "metadata": {
    "ExecuteTime": {
     "end_time": "2025-09-28T15:04:08.092804Z",
     "start_time": "2025-09-28T15:04:08.073687Z"
    },
    "hidden": true
   },
   "outputs": [
    {
     "data": {
      "text/plain": [
       "34357    0\n",
       "23523    0\n",
       "250      0\n",
       "23237    1\n",
       "17707    2\n",
       "45332    3\n",
       "24284    4\n",
       "9989     4\n",
       "43820    4\n",
       "24727    5\n",
       "Name: genre, dtype: int64"
      ]
     },
     "execution_count": 10,
     "metadata": {},
     "output_type": "execute_result"
    }
   ],
   "source": [
    "df_train.genre[:10].apply(genre_enc.encode)"
   ]
  },
  {
   "cell_type": "code",
   "execution_count": 11,
   "id": "4fdf677c",
   "metadata": {
    "ExecuteTime": {
     "end_time": "2025-09-28T15:04:08.113897Z",
     "start_time": "2025-09-28T15:04:08.094107Z"
    },
    "hidden": true
   },
   "outputs": [
    {
     "data": {
      "text/plain": [
       "'drama'"
      ]
     },
     "execution_count": 11,
     "metadata": {},
     "output_type": "execute_result"
    }
   ],
   "source": [
    "genre_enc.decode(0)"
   ]
  },
  {
   "cell_type": "code",
   "execution_count": 12,
   "id": "b3a52489",
   "metadata": {
    "ExecuteTime": {
     "end_time": "2025-09-28T15:04:08.134788Z",
     "start_time": "2025-09-28T15:04:08.115773Z"
    },
    "hidden": true
   },
   "outputs": [
    {
     "data": {
      "text/plain": [
       "27"
      ]
     },
     "execution_count": 12,
     "metadata": {},
     "output_type": "execute_result"
    }
   ],
   "source": [
    "# Неизвестные жанры преобразуются в '<other>':\n",
    "genre_enc.encode('maho-shojo')"
   ]
  },
  {
   "cell_type": "code",
   "execution_count": 13,
   "id": "62dd4f95",
   "metadata": {
    "ExecuteTime": {
     "end_time": "2025-09-28T15:04:08.156115Z",
     "start_time": "2025-09-28T15:04:08.136476Z"
    },
    "hidden": true
   },
   "outputs": [
    {
     "data": {
      "text/plain": [
       "'<other>'"
      ]
     },
     "execution_count": 13,
     "metadata": {},
     "output_type": "execute_result"
    }
   ],
   "source": [
    "genre_enc.decode(27)"
   ]
  },
  {
   "cell_type": "markdown",
   "id": "ba32a485",
   "metadata": {
    "heading_collapsed": true
   },
   "source": [
    "## Токенизатор"
   ]
  },
  {
   "cell_type": "markdown",
   "id": "bec9aa64",
   "metadata": {
    "hidden": true
   },
   "source": [
    "Для векторизации токенов будем использовать предобученные векторы из `data/glove.6B.300d.txt.zip`\n",
    "\n",
    "Для адекватного испольование glove нужен токенизатор, который:\n",
    " - Заменяет сокращения на полные формы (I'm → I am)\n",
    " - Приводит текст к нижнему регистру\n",
    " - Сохраняет пунктуацию\n",
    " - Не удаляет стоп-слова\n",
    " - Не лемматизирует\n",
    " - Запоминает токены для создания словаря\n",
    " \n",
    "Такой токенизатор реализован в `tokenizer.py`"
   ]
  },
  {
   "cell_type": "code",
   "execution_count": 14,
   "id": "7631223f",
   "metadata": {
    "ExecuteTime": {
     "end_time": "2025-09-28T15:04:08.178684Z",
     "start_time": "2025-09-28T15:04:08.157985Z"
    },
    "hidden": true
   },
   "outputs": [
    {
     "data": {
      "text/plain": [
       "set()"
      ]
     },
     "execution_count": 14,
     "metadata": {},
     "output_type": "execute_result"
    }
   ],
   "source": [
    "tokenizer = Tokenizer() # пустой токенизатор\n",
    "tokenizer.unique_tokens"
   ]
  },
  {
   "cell_type": "code",
   "execution_count": 15,
   "id": "14471ad2",
   "metadata": {
    "ExecuteTime": {
     "end_time": "2025-09-28T15:04:08.204886Z",
     "start_time": "2025-09-28T15:04:08.180889Z"
    },
    "hidden": true
   },
   "outputs": [
    {
     "name": "stdout",
     "output_type": "stream",
     "text": [
      "['two', 'toes', ':', 'the', 'coyote', 'legend', 'of', 'green', 'river']\n"
     ]
    }
   ],
   "source": [
    "text1 = \"Two Toes: The Coyote Legend of Green River\"\n",
    "print(tokenizer._tokenize_with_fit(text1)) # токенизирует и запоминает"
   ]
  },
  {
   "cell_type": "code",
   "execution_count": 16,
   "id": "e9618570",
   "metadata": {
    "ExecuteTime": {
     "end_time": "2025-09-28T15:04:08.225923Z",
     "start_time": "2025-09-28T15:04:08.206799Z"
    },
    "hidden": true
   },
   "outputs": [
    {
     "name": "stdout",
     "output_type": "stream",
     "text": [
      "['two', 'toes', ':', 'the', 'coyote', 'legend', 'of', 'green', 'river']\n"
     ]
    }
   ],
   "source": [
    "text2 = \"The film's title refers not only to the un-recovered bodies at ground zero, \"\n",
    "\"but also to the state of the nation at large.\"\n",
    "print(tokenizer._just_tokenize(text1)) # просто токенизирует"
   ]
  },
  {
   "cell_type": "markdown",
   "id": "c2daf9d9",
   "metadata": {
    "hidden": true
   },
   "source": [
    "Токинизатор запомнил токены из `text1`, но не из `text2`"
   ]
  },
  {
   "cell_type": "code",
   "execution_count": 17,
   "id": "c6aaf2ff",
   "metadata": {
    "ExecuteTime": {
     "end_time": "2025-09-28T15:04:08.245365Z",
     "start_time": "2025-09-28T15:04:08.227679Z"
    },
    "hidden": true
   },
   "outputs": [
    {
     "name": "stdout",
     "output_type": "stream",
     "text": [
      "{'green', 'two', 'of', 'the', 'river', 'coyote', ':', 'legend', 'toes'}\n"
     ]
    }
   ],
   "source": [
    "print(tokenizer.unique_tokens) "
   ]
  },
  {
   "cell_type": "markdown",
   "id": "3713f1fe",
   "metadata": {
    "heading_collapsed": true
   },
   "source": [
    "## Словарь и векторизация"
   ]
  },
  {
   "cell_type": "markdown",
   "id": "201a9b0d",
   "metadata": {
    "ExecuteTime": {
     "end_time": "2025-09-15T18:06:39.179670Z",
     "start_time": "2025-09-15T18:06:39.139339Z"
    },
    "hidden": true
   },
   "source": [
    "Используем векторы из `data/glove.6B.300d.txt.zip`. Они имееют размерность 300.\n",
    "\n",
    "Возмём только те слова, которые есть и в glove и запомнились токенизатором"
   ]
  },
  {
   "cell_type": "code",
   "execution_count": 18,
   "id": "306c3b20",
   "metadata": {
    "ExecuteTime": {
     "end_time": "2025-09-28T15:04:31.140175Z",
     "start_time": "2025-09-28T15:04:08.247266Z"
    },
    "hidden": true
   },
   "outputs": [
    {
     "name": "stdout",
     "output_type": "stream",
     "text": [
      "['<pad>', '<unk>', 'green', 'two', 'of', 'the', 'river', 'coyote', ':', 'legend', 'toes']\n"
     ]
    }
   ],
   "source": [
    "vocab, vectors = make_vocab(tokens=tokenizer.unique_tokens)\n",
    "print(vocab.decoder)"
   ]
  },
  {
   "cell_type": "code",
   "execution_count": 19,
   "id": "d30ac602",
   "metadata": {
    "ExecuteTime": {
     "end_time": "2025-09-28T15:04:31.161103Z",
     "start_time": "2025-09-28T15:04:31.141950Z"
    },
    "hidden": true
   },
   "outputs": [
    {
     "data": {
      "text/plain": [
       "(11, 300)"
      ]
     },
     "execution_count": 19,
     "metadata": {},
     "output_type": "execute_result"
    }
   ],
   "source": [
    "vectors.shape"
   ]
  },
  {
   "cell_type": "code",
   "execution_count": 20,
   "id": "772fe1a9",
   "metadata": {
    "ExecuteTime": {
     "end_time": "2025-09-28T15:04:31.180755Z",
     "start_time": "2025-09-28T15:04:31.162499Z"
    },
    "hidden": true
   },
   "outputs": [
    {
     "name": "stdout",
     "output_type": "stream",
     "text": [
      "[3, 1, 5, 7, 9, 4, 2, 6]\n"
     ]
    }
   ],
   "source": [
    "encoded_text = list(map(vocab.encode, text1.lower().split()))\n",
    "print(encoded_text)"
   ]
  },
  {
   "cell_type": "code",
   "execution_count": 21,
   "id": "e6bd782b",
   "metadata": {
    "ExecuteTime": {
     "end_time": "2025-09-28T15:04:31.199224Z",
     "start_time": "2025-09-28T15:04:31.181844Z"
    },
    "hidden": true
   },
   "outputs": [
    {
     "name": "stdout",
     "output_type": "stream",
     "text": [
      "['two', '<unk>', 'the', 'coyote', 'legend', 'of', 'green', 'river']\n"
     ]
    }
   ],
   "source": [
    "decoded_text = list(map(vocab.decode, encoded_text))\n",
    "print(decoded_text)"
   ]
  },
  {
   "cell_type": "markdown",
   "id": "a3c70b51",
   "metadata": {
    "hidden": true
   },
   "source": [
    "Некоторые токены не попадают в словарь. Для английского текста их обычно не много. Однако есть описания на других языках. Их лучше отфильтровать на этапе обучения (для train и val). Для этого задаётся порог процентного содержания неизвестных токенов."
   ]
  },
  {
   "cell_type": "markdown",
   "id": "f4bcfa9a",
   "metadata": {
    "hidden": true
   },
   "source": [
    "Словарь и вектора, обученные на всём df_train, сохранены в файлы `train75_vocab.txt`, `train75_vectors.npy`"
   ]
  },
  {
   "cell_type": "code",
   "execution_count": 22,
   "id": "a2eea47d",
   "metadata": {
    "ExecuteTime": {
     "end_time": "2025-09-28T15:04:31.217796Z",
     "start_time": "2025-09-28T15:04:31.200454Z"
    },
    "hidden": true
   },
   "outputs": [],
   "source": [
    "del vocab, vectors"
   ]
  },
  {
   "cell_type": "markdown",
   "id": "95b4a630",
   "metadata": {
    "heading_collapsed": true
   },
   "source": [
    "## Шаги предобработки данных"
   ]
  },
  {
   "cell_type": "markdown",
   "id": "50d33e03",
   "metadata": {
    "hidden": true
   },
   "source": [
    "Для предобработки используется класс `DataPreprocessor` из `prepare_data.py`.\n",
    "\n",
    "Экземпляр этого класса, выполняющий подготовку данных, содержит кодировщик жанров, токенизатор, словарь и массив векторов. При обучении их состояние записывается в соответствующие файлы, а потом восстонавливается методом `load_state`\n",
    "\n",
    "В конструктор передаётся имя файла для жанров и порог содержания неизвестных слов для фильтрации."
   ]
  },
  {
   "cell_type": "code",
   "execution_count": 23,
   "id": "7155c064",
   "metadata": {
    "ExecuteTime": {
     "end_time": "2025-09-28T15:04:31.237942Z",
     "start_time": "2025-09-28T15:04:31.219283Z"
    },
    "hidden": true
   },
   "outputs": [
    {
     "data": {
      "text/plain": [
       "False"
      ]
     },
     "execution_count": 23,
     "metadata": {},
     "output_type": "execute_result"
    }
   ],
   "source": [
    "preprocessor = DataPreprocessor(txt_path='train75_genres.txt', unk_threshold=0.1)\n",
    "preprocessor.fitted"
   ]
  },
  {
   "cell_type": "code",
   "execution_count": 24,
   "id": "1823324e",
   "metadata": {
    "ExecuteTime": {
     "end_time": "2025-09-28T15:04:31.293038Z",
     "start_time": "2025-09-28T15:04:31.239431Z"
    },
    "hidden": true
   },
   "outputs": [
    {
     "data": {
      "text/plain": [
       "True"
      ]
     },
     "execution_count": 24,
     "metadata": {},
     "output_type": "execute_result"
    }
   ],
   "source": [
    "preprocessor.load_state('train75')\n",
    "preprocessor.fitted"
   ]
  },
  {
   "cell_type": "code",
   "execution_count": 25,
   "id": "43364ed0",
   "metadata": {
    "ExecuteTime": {
     "end_time": "2025-09-28T15:04:31.313303Z",
     "start_time": "2025-09-28T15:04:31.294456Z"
    },
    "hidden": true
   },
   "outputs": [
    {
     "data": {
      "text/plain": [
       "(85667, 300)"
      ]
     },
     "execution_count": 25,
     "metadata": {},
     "output_type": "execute_result"
    }
   ],
   "source": [
    "vectors = preprocessor.vectors\n",
    "vectors.shape"
   ]
  },
  {
   "cell_type": "markdown",
   "id": "fc77fd95",
   "metadata": {
    "hidden": true
   },
   "source": [
    "Нулевой шаг — соединение названия с текстом по формуле\n",
    "\n",
    "    X = name + '.' + text\n",
    "выход: `X` и `y = genre`"
   ]
  },
  {
   "cell_type": "code",
   "execution_count": 27,
   "id": "b733ca35",
   "metadata": {
    "ExecuteTime": {
     "end_time": "2025-09-28T15:04:31.353796Z",
     "start_time": "2025-09-28T15:04:31.334257Z"
    },
    "hidden": true
   },
   "outputs": [
    {
     "data": {
      "text/plain": [
       "34357     \"Un prete tra noi\" (1997) . Marco is a cultiv...\n",
       "23523     Canadian Dream (2011) . When Amar immigrated ...\n",
       "250       My tattoo (2016) . In 2016, Shiho is going to...\n",
       "23237     Ju san liang yi yi (1980) . Old 1970/80 Taiwa...\n",
       "17707     \"My Auntie's Tall Tales\" (2017) . Six-year-ol...\n",
       "45332     Crossing White Lines (1999) . On April 15, 19...\n",
       "24284     Cottonpickin' Chickenpickers (1967) . Darby C...\n",
       "9989      Lan gun fu dou lan gun qi (2013) . Chinese Fe...\n",
       "43820     \"Immersion\" (2010) . Ever wondered how video ...\n",
       "24727     Los reptiles (1991) . There is a motorcycle g...\n",
       "dtype: object"
      ]
     },
     "execution_count": 27,
     "metadata": {},
     "output_type": "execute_result"
    }
   ],
   "source": [
    "X, y = preprocessor._preprocess0(df_train.iloc[:10])\n",
    "X"
   ]
  },
  {
   "cell_type": "code",
   "execution_count": 28,
   "id": "734fc6f6",
   "metadata": {
    "ExecuteTime": {
     "end_time": "2025-09-28T15:04:31.380028Z",
     "start_time": "2025-09-28T15:04:31.360456Z"
    },
    "hidden": true
   },
   "outputs": [
    {
     "data": {
      "text/plain": [
       "34357          drama\n",
       "23523          drama\n",
       "250            drama\n",
       "23237        romance\n",
       "17707         family\n",
       "45332    documentary\n",
       "24284         comedy\n",
       "9989          comedy\n",
       "43820         comedy\n",
       "24727         action\n",
       "Name: genre, dtype: object"
      ]
     },
     "execution_count": 28,
     "metadata": {},
     "output_type": "execute_result"
    }
   ],
   "source": [
    "y"
   ]
  },
  {
   "cell_type": "markdown",
   "id": "0b7fa025",
   "metadata": {
    "hidden": true
   },
   "source": [
    "Затем — кодирование жанров"
   ]
  },
  {
   "cell_type": "code",
   "execution_count": 29,
   "id": "15618125",
   "metadata": {
    "ExecuteTime": {
     "end_time": "2025-09-28T15:04:31.400731Z",
     "start_time": "2025-09-28T15:04:31.381563Z"
    },
    "hidden": true
   },
   "outputs": [
    {
     "data": {
      "text/plain": [
       "array([0, 0, 0, 1, 2, 3, 4, 4, 4, 5])"
      ]
     },
     "execution_count": 29,
     "metadata": {},
     "output_type": "execute_result"
    }
   ],
   "source": [
    "y = preprocessor._preprocess1(y)\n",
    "y"
   ]
  },
  {
   "cell_type": "markdown",
   "id": "e8055246",
   "metadata": {
    "hidden": true
   },
   "source": [
    "Следующий шаг — токенизация. Если словарь и вектора ещё не сохранены, то на этом этапе они создаются из train75"
   ]
  },
  {
   "cell_type": "code",
   "execution_count": 30,
   "id": "66105d23",
   "metadata": {
    "ExecuteTime": {
     "end_time": "2025-09-28T15:04:31.430949Z",
     "start_time": "2025-09-28T15:04:31.402615Z"
    },
    "hidden": true
   },
   "outputs": [
    {
     "data": {
      "text/plain": [
       "34357    [``, un, prete, tra, noi, '', (, 1997, ), ., m...\n",
       "23523    [canadian, dream, (, 2011, ), ., when, amar, i...\n",
       "250      [my, tattoo, (, 2016, ), ., in, 2016, ,, shiho...\n",
       "23237    [ju, san, liang, yi, yi, (, 1980, ), ., old, 1...\n",
       "17707    [``, my, auntie, 's, tall, tales, '', (, 2017,...\n",
       "45332    [crossing, white, lines, (, 1999, ), ., on, ap...\n",
       "24284    [cottonpickin, ', chickenpickers, (, 1967, ), ...\n",
       "9989     [lan, gun, fu, dou, lan, gun, qi, (, 2013, ), ...\n",
       "43820    [``, immersion, '', (, 2010, ), ., ever, wonde...\n",
       "24727    [los, reptiles, (, 1991, ), ., there, is, a, m...\n",
       "dtype: object"
      ]
     },
     "execution_count": 30,
     "metadata": {},
     "output_type": "execute_result"
    }
   ],
   "source": [
    "X = preprocessor._preprocess2(X, do_fit=False)\n",
    "X"
   ]
  },
  {
   "cell_type": "markdown",
   "id": "eb288243",
   "metadata": {
    "hidden": true
   },
   "source": [
    "С помощью словаря токены кодируются для компактного хранения в файле."
   ]
  },
  {
   "cell_type": "code",
   "execution_count": 31,
   "id": "98069561",
   "metadata": {
    "ExecuteTime": {
     "end_time": "2025-09-28T15:04:31.455647Z",
     "start_time": "2025-09-28T15:04:31.432832Z"
    },
    "hidden": true
   },
   "outputs": [
    {
     "data": {
      "text/plain": [
       "34357    [40424, 11063, 50860, 15163, 72573, 62151, 101...\n",
       "23523    [73177, 32392, 10180, 37460, 5627, 47462, 4427...\n",
       "250      [25658, 24013, 10180, 18027, 5627, 47462, 7520...\n",
       "23237    [42189, 70281, 64454, 81932, 81932, 10180, 595...\n",
       "17707    [40424, 25658, 68304, 78533, 40507, 37184, 621...\n",
       "45332    [44920, 74158, 38930, 10180, 8592, 5627, 47462...\n",
       "24284    [1, 55991, 1, 10180, 21717, 5627, 47462, 7505,...\n",
       "9989     [34055, 24497, 77477, 42154, 34055, 24497, 424...\n",
       "43820    [40424, 51805, 62151, 10180, 82188, 5627, 4746...\n",
       "24727    [8152, 17256, 10180, 77452, 5627, 47462, 52633...\n",
       "dtype: object"
      ]
     },
     "execution_count": 31,
     "metadata": {},
     "output_type": "execute_result"
    }
   ],
   "source": [
    "X = preprocessor._preprocess3(X)\n",
    "X"
   ]
  },
  {
   "cell_type": "markdown",
   "id": "19deb5e6",
   "metadata": {
    "ExecuteTime": {
     "end_time": "2025-09-15T19:55:12.867410Z",
     "start_time": "2025-09-15T19:55:12.813838Z"
    },
    "hidden": true
   },
   "source": [
    "Поскольку последовательности кодов имеют разную длину,\n",
    "то для хранения данных X переводится в одномерный массив,\n",
    "а для его обратного превращения в набор последовательностей\n",
    "сохраняются длины этих последовательностей.\n",
    "\n",
    "Здесь же происходит фильтрация по количеству неизвестных слов"
   ]
  },
  {
   "cell_type": "code",
   "execution_count": 32,
   "id": "b902efde",
   "metadata": {
    "ExecuteTime": {
     "end_time": "2025-09-28T15:04:31.477130Z",
     "start_time": "2025-09-28T15:04:31.457312Z"
    },
    "hidden": true
   },
   "outputs": [
    {
     "name": "stdout",
     "output_type": "stream",
     "text": [
      "English filter: 0.0 filtered\n"
     ]
    },
    {
     "data": {
      "text/plain": [
       "((1231,), (10,), (10,))"
      ]
     },
     "execution_count": 32,
     "metadata": {},
     "output_type": "execute_result"
    }
   ],
   "source": [
    "X, lengths, y = preprocessor._preprocess4(X, y, filter_unknown=True)\n",
    "X.shape, lengths.shape, y.shape"
   ]
  },
  {
   "cell_type": "markdown",
   "id": "d2179242",
   "metadata": {
    "hidden": true
   },
   "source": [
    "Файл `prepare_data.py` — это скрипт, призапуске которого происходит предобработка данных `data/train75.pq` и `data/val25.pq` и запись полученных массивов X, y, z в файлы `data/train75.npz`, `data/val25.npz` соответственно."
   ]
  },
  {
   "cell_type": "markdown",
   "id": "b3071871",
   "metadata": {
    "heading_collapsed": true
   },
   "source": [
    "## Dataset и dataloader"
   ]
  },
  {
   "cell_type": "markdown",
   "id": "7e4ddfcd",
   "metadata": {
    "hidden": true
   },
   "source": [
    "Торчёвый датасет создаётся из массивов `X, lengths, y`. Они компактно храняться внутри вместе с индексами начала каждой последовательности. При вызове __getitem__ выдёргивается нужный кусок из X."
   ]
  },
  {
   "cell_type": "code",
   "execution_count": 33,
   "id": "78c54b0e",
   "metadata": {
    "ExecuteTime": {
     "end_time": "2025-09-28T15:04:31.500067Z",
     "start_time": "2025-09-28T15:04:31.479168Z"
    },
    "hidden": true
   },
   "outputs": [
    {
     "data": {
      "text/plain": [
       "10"
      ]
     },
     "execution_count": 33,
     "metadata": {},
     "output_type": "execute_result"
    }
   ],
   "source": [
    "small_dataset = SeqDataset(X, lengths, y, vectors, compute_y_weights=True)\n",
    "len(small_dataset)"
   ]
  },
  {
   "cell_type": "code",
   "execution_count": 34,
   "id": "189dcbe7",
   "metadata": {
    "ExecuteTime": {
     "end_time": "2025-09-28T15:04:31.520715Z",
     "start_time": "2025-09-28T15:04:31.501696Z"
    },
    "hidden": true
   },
   "outputs": [
    {
     "data": {
      "text/plain": [
       "tensor([40424, 11063, 50860,  ..., 44269, 38805, 11969])"
      ]
     },
     "execution_count": 34,
     "metadata": {},
     "output_type": "execute_result"
    }
   ],
   "source": [
    "small_dataset.X"
   ]
  },
  {
   "cell_type": "code",
   "execution_count": 35,
   "id": "eb1d3c7c",
   "metadata": {
    "ExecuteTime": {
     "end_time": "2025-09-28T15:04:31.542011Z",
     "start_time": "2025-09-28T15:04:31.522473Z"
    },
    "hidden": true
   },
   "outputs": [
    {
     "data": {
      "text/plain": [
       "tensor([   0,  201,  291,  365,  495,  661,  752,  937, 1054, 1165, 1231])"
      ]
     },
     "execution_count": 35,
     "metadata": {},
     "output_type": "execute_result"
    }
   ],
   "source": [
    "small_dataset.pointers"
   ]
  },
  {
   "cell_type": "code",
   "execution_count": 36,
   "id": "dbefb764",
   "metadata": {
    "ExecuteTime": {
     "end_time": "2025-09-28T15:04:31.562677Z",
     "start_time": "2025-09-28T15:04:31.543693Z"
    },
    "hidden": true
   },
   "outputs": [
    {
     "data": {
      "text/plain": [
       "tensor([0, 0, 0, 1, 2, 3, 4, 4, 4, 5])"
      ]
     },
     "execution_count": 36,
     "metadata": {},
     "output_type": "execute_result"
    }
   ],
   "source": [
    "small_dataset.y"
   ]
  },
  {
   "cell_type": "code",
   "execution_count": 37,
   "id": "629466d5",
   "metadata": {
    "ExecuteTime": {
     "end_time": "2025-09-28T15:04:31.583576Z",
     "start_time": "2025-09-28T15:04:31.564137Z"
    },
    "hidden": true
   },
   "outputs": [
    {
     "data": {
      "text/plain": [
       "tensor([73177, 32392, 10180, 37460])"
      ]
     },
     "execution_count": 37,
     "metadata": {},
     "output_type": "execute_result"
    }
   ],
   "source": [
    "small_dataset.X[201:205]"
   ]
  },
  {
   "cell_type": "code",
   "execution_count": 38,
   "id": "20580a86",
   "metadata": {
    "ExecuteTime": {
     "end_time": "2025-09-28T15:04:31.611248Z",
     "start_time": "2025-09-28T15:04:31.584972Z"
    },
    "hidden": true
   },
   "outputs": [
    {
     "data": {
      "text/plain": [
       "(tensor([[ 0.1267,  0.3602, -0.3693,  ...,  0.5320,  0.0703, -0.3471],\n",
       "         [ 0.0030,  0.4506, -0.0134,  ..., -0.1304, -0.4271,  0.6269],\n",
       "         [-0.1686, -0.1958, -0.2025,  ..., -0.4990,  0.2265, -0.2899],\n",
       "         ...,\n",
       "         [ 0.1267,  0.3602, -0.3693,  ...,  0.5320,  0.0703, -0.3471],\n",
       "         [ 0.0030,  0.4506, -0.0134,  ..., -0.1304, -0.4271,  0.6269],\n",
       "         [-0.1256,  0.0136,  0.1031,  ..., -0.3422, -0.0224,  0.1368]]),\n",
       " tensor(0))"
      ]
     },
     "execution_count": 38,
     "metadata": {},
     "output_type": "execute_result"
    }
   ],
   "source": [
    "X0, y0 = small_dataset[1]\n",
    "X0, y0"
   ]
  },
  {
   "cell_type": "markdown",
   "id": "a3db9216",
   "metadata": {
    "hidden": true
   },
   "source": [
    "Опциия `compute_y_weights` добавляет поле `class_weights` в котором посчитамы веса классов\n",
    "для данного датасета. Предполагается использовать её для train."
   ]
  },
  {
   "cell_type": "code",
   "execution_count": 39,
   "id": "d418fb24",
   "metadata": {
    "ExecuteTime": {
     "end_time": "2025-09-28T15:04:31.632933Z",
     "start_time": "2025-09-28T15:04:31.613536Z"
    },
    "hidden": true
   },
   "outputs": [
    {
     "data": {
      "text/plain": [
       "tensor([0.5556, 1.6667, 1.6667, 1.6667, 0.5556, 1.6667])"
      ]
     },
     "execution_count": 39,
     "metadata": {},
     "output_type": "execute_result"
    }
   ],
   "source": [
    "small_dataset.class_weights"
   ]
  },
  {
   "cell_type": "markdown",
   "id": "66704877",
   "metadata": {
    "hidden": true
   },
   "source": [
    "$i$-й элемент этого тензора — вес жанра с кодом $i$"
   ]
  },
  {
   "cell_type": "code",
   "execution_count": 40,
   "id": "40cf0b67",
   "metadata": {
    "ExecuteTime": {
     "end_time": "2025-09-28T15:04:31.653436Z",
     "start_time": "2025-09-28T15:04:31.634395Z"
    },
    "hidden": true
   },
   "outputs": [
    {
     "data": {
      "text/plain": [
       "'drama'"
      ]
     },
     "execution_count": 40,
     "metadata": {},
     "output_type": "execute_result"
    }
   ],
   "source": [
    "preprocessor.genre_encoder.decode(y0.item())"
   ]
  },
  {
   "cell_type": "markdown",
   "id": "7e07d348",
   "metadata": {
    "hidden": true
   },
   "source": [
    "`Dataloader` преобразует X, y в `PackedSequence` и `torch.LongTensor` соответственно. При его создании указывается имя файла, из которого он берёт массивы `X, length, y`"
   ]
  },
  {
   "cell_type": "code",
   "execution_count": 41,
   "id": "7ae7614f",
   "metadata": {
    "ExecuteTime": {
     "end_time": "2025-09-28T15:04:31.811297Z",
     "start_time": "2025-09-28T15:04:31.655453Z"
    },
    "hidden": true
   },
   "outputs": [
    {
     "data": {
      "text/plain": [
       "40239"
      ]
     },
     "execution_count": 41,
     "metadata": {},
     "output_type": "execute_result"
    }
   ],
   "source": [
    "dataloader = make_dataloader(path='train75')\n",
    "len(dataloader.dataset)"
   ]
  },
  {
   "cell_type": "markdown",
   "id": "09692aec",
   "metadata": {
    "hidden": true
   },
   "source": [
    "Также подсчитывается максимальная длина последовательностей. Она понадобится для позиционного кодирования."
   ]
  },
  {
   "cell_type": "code",
   "execution_count": 42,
   "id": "30fd62d2",
   "metadata": {
    "ExecuteTime": {
     "end_time": "2025-09-28T15:04:31.831782Z",
     "start_time": "2025-09-28T15:04:31.812445Z"
    },
    "hidden": true
   },
   "outputs": [
    {
     "data": {
      "text/plain": [
       "2113"
      ]
     },
     "execution_count": 42,
     "metadata": {},
     "output_type": "execute_result"
    }
   ],
   "source": [
    "dataloader.dataset.max_length"
   ]
  },
  {
   "cell_type": "code",
   "execution_count": 43,
   "id": "92839f17",
   "metadata": {
    "ExecuteTime": {
     "end_time": "2025-09-28T15:04:31.860482Z",
     "start_time": "2025-09-28T15:04:31.833931Z"
    },
    "hidden": true
   },
   "outputs": [
    {
     "data": {
      "text/plain": [
       "(4, torch.Size([32]))"
      ]
     },
     "execution_count": 43,
     "metadata": {},
     "output_type": "execute_result"
    }
   ],
   "source": [
    "X_seq, y_t = next(iter(dataloader))\n",
    "len(X_seq), y_t.shape"
   ]
  },
  {
   "cell_type": "code",
   "execution_count": 44,
   "id": "177658f3",
   "metadata": {
    "ExecuteTime": {
     "end_time": "2025-09-28T15:04:31.882909Z",
     "start_time": "2025-09-28T15:04:31.861986Z"
    },
    "hidden": true
   },
   "outputs": [
    {
     "data": {
      "text/plain": [
       "PackedSequence(data=tensor([[-0.2852, -0.0139,  0.3161,  ..., -0.1086, -0.1435,  0.1485],\n",
       "        [-0.2228, -0.3046,  0.1773,  ..., -0.1176, -0.1375,  0.3299],\n",
       "        [-0.7242,  0.2033, -0.2540,  ..., -0.0354,  0.0589, -0.4750],\n",
       "        ...,\n",
       "        [ 0.3251,  0.0184, -0.0720,  ..., -0.1204, -0.2595, -0.4693],\n",
       "        [-0.0562,  0.3544,  0.9249,  ...,  0.4352,  0.1860, -0.1543],\n",
       "        [-0.1256,  0.0136,  0.1031,  ..., -0.3422, -0.0224,  0.1368]]), batch_sizes=tensor([32, 32, 32, 32, 32, 32, 32, 32, 32, 32, 32, 32, 32, 32, 32, 32, 32, 32,\n",
       "        32, 32, 32, 32, 32, 32, 32, 32, 32, 32, 32, 32, 32, 32, 32, 32, 32, 32,\n",
       "        32, 32, 32, 32, 32, 31, 31, 31, 31, 31, 30, 30, 30, 30, 30, 30, 30, 30,\n",
       "        30, 30, 30, 30, 27, 27, 26, 25, 25, 25, 25, 25, 25, 25, 25, 25, 25, 23,\n",
       "        23, 23, 23, 23, 21, 19, 19, 18, 18, 17, 17, 17, 17, 17, 16, 16, 16, 15,\n",
       "        15, 14, 12, 11, 11, 11, 11, 11, 11, 10, 10, 10, 10,  9,  9,  9,  9,  8,\n",
       "         8,  8,  8,  8,  8,  8,  8,  8,  8,  8,  8,  8,  8,  8,  8,  7,  7,  7,\n",
       "         7,  7,  7,  7,  7,  7,  7,  7,  7,  7,  7,  7,  7,  7,  7,  7,  7,  7,\n",
       "         7,  7,  7,  7,  7,  7,  7,  6,  6,  6,  6,  6,  6,  6,  6,  6,  6,  6,\n",
       "         6,  6,  6,  6,  6,  6,  6,  6,  6,  6,  6,  5,  5,  5,  5,  5,  5,  5,\n",
       "         5,  5,  5,  5,  5,  5,  5,  5,  5,  5,  4,  4,  3,  3,  3,  3,  3,  3,\n",
       "         3,  3,  3,  3,  2,  2,  2,  2,  2,  2,  2,  2,  2,  2,  2,  2,  2,  2,\n",
       "         2,  2,  2,  2,  2,  2,  2,  2,  2,  2,  2,  2,  2,  2,  2,  2,  2,  2,\n",
       "         2,  2,  2,  2,  2,  2,  2,  2,  2,  2,  2,  2,  2,  2,  2,  2,  2,  2,\n",
       "         2,  2,  2,  2,  2,  2,  2,  2,  2,  2,  2,  2,  2,  2,  2,  2,  2,  2,\n",
       "         2,  2,  2,  2,  2,  2,  2,  2,  2,  2,  2,  2,  2,  2,  2,  2,  2,  2,\n",
       "         2,  1,  1,  1,  1,  1,  1,  1,  1,  1,  1,  1,  1,  1,  1,  1,  1,  1,\n",
       "         1,  1,  1,  1,  1,  1,  1,  1,  1,  1,  1,  1,  1,  1,  1,  1,  1,  1,\n",
       "         1,  1,  1,  1,  1,  1,  1,  1,  1,  1,  1,  1,  1,  1,  1,  1,  1,  1,\n",
       "         1,  1,  1,  1,  1,  1,  1,  1,  1,  1,  1,  1]), sorted_indices=None, unsorted_indices=None)"
      ]
     },
     "execution_count": 44,
     "metadata": {},
     "output_type": "execute_result"
    }
   ],
   "source": [
    "X_seq"
   ]
  },
  {
   "cell_type": "code",
   "execution_count": 45,
   "id": "3653c9d5",
   "metadata": {
    "ExecuteTime": {
     "end_time": "2025-09-28T15:04:31.902439Z",
     "start_time": "2025-09-28T15:04:31.884296Z"
    },
    "hidden": true
   },
   "outputs": [
    {
     "data": {
      "text/plain": [
       "tensor([ 3,  3,  7,  3,  4,  0,  4,  0,  8,  0,  5,  0,  0,  4,  4, 25,  3,  7,\n",
       "         0,  0, 11,  3,  5, 19,  3,  4,  5,  0,  7,  7,  4,  0])"
      ]
     },
     "execution_count": 45,
     "metadata": {},
     "output_type": "execute_result"
    }
   ],
   "source": [
    "y_t # Жанры из батча"
   ]
  },
  {
   "cell_type": "code",
   "execution_count": 46,
   "id": "b956bf24",
   "metadata": {
    "ExecuteTime": {
     "end_time": "2025-09-28T15:04:31.922977Z",
     "start_time": "2025-09-28T15:04:31.904803Z"
    },
    "hidden": true
   },
   "outputs": [
    {
     "data": {
      "text/plain": [
       "tensor([ 0.1480,  2.9987,  2.5607,  0.1525,  0.2726,  1.5192,  1.9255,  0.3944,\n",
       "         0.9043,  2.7701,  5.1748,  1.2545,  3.0792,  2.2547, 10.2078,  2.6055,\n",
       "         6.2357,  7.6037,  3.3718,  4.0498,  7.3056,  6.2357,  4.6573, 15.0539,\n",
       "         8.2796,  3.9848, 10.9583])"
      ]
     },
     "execution_count": 46,
     "metadata": {},
     "output_type": "execute_result"
    }
   ],
   "source": [
    "dataloader.dataset.class_weights # Веса для всех жанров"
   ]
  },
  {
   "cell_type": "code",
   "execution_count": 47,
   "id": "c226ca80",
   "metadata": {
    "ExecuteTime": {
     "end_time": "2025-09-28T15:04:31.942109Z",
     "start_time": "2025-09-28T15:04:31.924513Z"
    },
    "hidden": true
   },
   "outputs": [],
   "source": [
    "del small_dataset, X0, y0, y_t"
   ]
  },
  {
   "cell_type": "markdown",
   "id": "be8a9ac1",
   "metadata": {
    "heading_collapsed": true
   },
   "source": [
    "# Слои для обработки последовательностей"
   ]
  },
  {
   "cell_type": "markdown",
   "id": "31562a66",
   "metadata": {
    "hidden": true
   },
   "source": [
    "Для классификации последовательностей, в часности токенизированный текстов, можно использовать следующие типы моделей:\n",
    " - классические RNN-модели\n",
    " - RNN-модели с механизмом внимания\n",
    " - Трансформеры, предложенные в \"Attention Is All You Need\"\n",
    "\n",
    "В этом разделе изучим как работают некоторые интересные слои этих моделей"
   ]
  },
  {
   "cell_type": "markdown",
   "id": "d26df465",
   "metadata": {
    "heading_collapsed": true,
    "hidden": true
   },
   "source": [
    "## RNN: GRU-слой"
   ]
  },
  {
   "cell_type": "markdown",
   "id": "35ca2779",
   "metadata": {
    "hidden": true
   },
   "source": [
    "Для построения RNN-моделей будем использовать слои GRU из-за ограниченности в ресурсах"
   ]
  },
  {
   "cell_type": "code",
   "execution_count": 48,
   "id": "58c183fd",
   "metadata": {
    "ExecuteTime": {
     "end_time": "2025-09-28T15:04:31.962968Z",
     "start_time": "2025-09-28T15:04:31.943471Z"
    },
    "hidden": true
   },
   "outputs": [
    {
     "data": {
      "text/plain": [
       "GRU(300, 64, num_layers=2, batch_first=True)"
      ]
     },
     "execution_count": 48,
     "metadata": {},
     "output_type": "execute_result"
    }
   ],
   "source": [
    "gru = nn.GRU(\n",
    "    input_size=dataloader.dataset.embedding_dim,\n",
    "    hidden_size=64, num_layers=2, bias=True, batch_first=True, bidirectional=False)\n",
    "gru"
   ]
  },
  {
   "cell_type": "markdown",
   "id": "e2ba7f6b",
   "metadata": {
    "hidden": true
   },
   "source": [
    "Как раз для таких слоёв ранее был сделан `SeqDataset`, который выдаёт последовательность запакованную в `PackedSequence`"
   ]
  },
  {
   "cell_type": "code",
   "execution_count": 49,
   "id": "7222204f",
   "metadata": {
    "ExecuteTime": {
     "end_time": "2025-09-28T15:04:32.047339Z",
     "start_time": "2025-09-28T15:04:31.964579Z"
    },
    "hidden": true
   },
   "outputs": [
    {
     "data": {
      "text/plain": [
       "(torch.nn.utils.rnn.PackedSequence, tuple)"
      ]
     },
     "execution_count": 49,
     "metadata": {},
     "output_type": "execute_result"
    }
   ],
   "source": [
    "gru_out = gru(X_seq)\n",
    "type(X_seq), type(gru_out)"
   ]
  },
  {
   "cell_type": "markdown",
   "id": "0378ddd8",
   "metadata": {
    "hidden": true
   },
   "source": [
    "Выход слоя (модуля из двух подслоёв) — последовательность для последующей обработки и финальный \"hidden state\" каждого подслоя. Последний имеет форму `[num_layes, batch_size, hidden_size]`."
   ]
  },
  {
   "cell_type": "code",
   "execution_count": 50,
   "id": "28e4f659",
   "metadata": {
    "ExecuteTime": {
     "end_time": "2025-09-28T15:04:32.069331Z",
     "start_time": "2025-09-28T15:04:32.050188Z"
    },
    "hidden": true
   },
   "outputs": [
    {
     "data": {
      "text/plain": [
       "(torch.nn.utils.rnn.PackedSequence, torch.Tensor, torch.Size([2, 32, 64]))"
      ]
     },
     "execution_count": 50,
     "metadata": {},
     "output_type": "execute_result"
    }
   ],
   "source": [
    "seq, h = gru_out\n",
    "type(seq), type(h), h.shape"
   ]
  },
  {
   "cell_type": "markdown",
   "id": "e2afe2e9",
   "metadata": {
    "hidden": true
   },
   "source": [
    "RNN-слой обрабатывает каждую последовательность из `PackedSequence` вдоль его собственной длинны, фактически иггнорируя паддинг. В этом можно убедится, распаковав последовательность."
   ]
  },
  {
   "cell_type": "code",
   "execution_count": 51,
   "id": "08138ce9",
   "metadata": {
    "ExecuteTime": {
     "end_time": "2025-09-28T15:04:32.090797Z",
     "start_time": "2025-09-28T15:04:32.071078Z"
    },
    "hidden": true
   },
   "outputs": [
    {
     "data": {
      "text/plain": [
       "(torch.Size([32, 354, 64]),\n",
       " torch.Size([32]),\n",
       " tensor([354, 289, 202, 192, 190, 173, 151, 123, 107, 103,  99,  93,  92,  92,\n",
       "          91,  89,  86,  81,  79,  77,  77,  76,  76,  71,  71,  61,  60,  58,\n",
       "          58,  58,  46,  41]))"
      ]
     },
     "execution_count": 51,
     "metadata": {},
     "output_type": "execute_result"
    }
   ],
   "source": [
    "x, lengths = nn.utils.rnn.pad_packed_sequence(seq, batch_first=True)\n",
    "assert type(x) == type(lengths) == torch.Tensor\n",
    "x.shape, lengths.shape, lengths"
   ]
  },
  {
   "cell_type": "markdown",
   "id": "2d1bf47e",
   "metadata": {
    "hidden": true
   },
   "source": [
    "Здесь общая длинна последовательностей с паддингом равна `lengths.shape[1]` == `lengths[0]`.\n",
    "\n",
    "Начиная со второй последовательности в конце они дополнены нулевыми векторами (паддинг)"
   ]
  },
  {
   "cell_type": "code",
   "execution_count": 52,
   "id": "377185f4",
   "metadata": {
    "ExecuteTime": {
     "end_time": "2025-09-28T15:04:32.111441Z",
     "start_time": "2025-09-28T15:04:32.092008Z"
    },
    "hidden": true
   },
   "outputs": [
    {
     "data": {
      "text/plain": [
       "tensor([0., 0., 0., 0., 0., 0., 0., 0., 0., 0., 0., 0., 0., 0., 0., 0., 0., 0., 0., 0., 0., 0., 0., 0.,\n",
       "        0., 0., 0., 0., 0., 0., 0., 0., 0., 0., 0., 0., 0., 0., 0., 0., 0., 0., 0., 0., 0., 0., 0., 0.,\n",
       "        0., 0., 0., 0., 0., 0., 0., 0., 0., 0., 0., 0., 0., 0., 0., 0.],\n",
       "       grad_fn=<SelectBackward0>)"
      ]
     },
     "execution_count": 52,
     "metadata": {},
     "output_type": "execute_result"
    }
   ],
   "source": [
    "x[-1, -1]"
   ]
  },
  {
   "cell_type": "markdown",
   "id": "d3139853",
   "metadata": {
    "hidden": true
   },
   "source": [
    "Последний элемент `i`-ой последовательности находится в месте под индексом `lengths[i] - 1`. Их можно выделить следующим образом."
   ]
  },
  {
   "cell_type": "code",
   "execution_count": 53,
   "id": "2100759d",
   "metadata": {
    "ExecuteTime": {
     "end_time": "2025-09-28T15:04:32.134556Z",
     "start_time": "2025-09-28T15:04:32.112968Z"
    },
    "hidden": true
   },
   "outputs": [
    {
     "data": {
      "text/plain": [
       "torch.Size([32, 64])"
      ]
     },
     "execution_count": 53,
     "metadata": {},
     "output_type": "execute_result"
    }
   ],
   "source": [
    "x[range(x.shape[0]), lengths-1].shape"
   ]
  },
  {
   "cell_type": "markdown",
   "id": "3117112c",
   "metadata": {
    "hidden": true
   },
   "source": [
    "Проверим, что они действительно совпадают с финальным состоянием последнего подслоя."
   ]
  },
  {
   "cell_type": "code",
   "execution_count": 54,
   "id": "6d12fcd5",
   "metadata": {
    "ExecuteTime": {
     "end_time": "2025-09-28T15:04:32.156153Z",
     "start_time": "2025-09-28T15:04:32.136418Z"
    },
    "hidden": true
   },
   "outputs": [
    {
     "data": {
      "text/plain": [
       "tensor(True)"
      ]
     },
     "execution_count": 54,
     "metadata": {},
     "output_type": "execute_result"
    }
   ],
   "source": [
    "(h[-1] == x[range(x.shape[0]), lengths-1]).all()"
   ]
  },
  {
   "cell_type": "markdown",
   "id": "60fb6186",
   "metadata": {
    "hidden": true
   },
   "source": [
    "Таким образом можно подавать вектор `h[-1]` на первый линейный слой подмодуля классификации.\n",
    "\n",
    "В случае двунаправленной RNN-модели мы конкатинируем финальные состояния прямого и обратного проходов — векторы `h[-2]` и `h[-1]`"
   ]
  },
  {
   "cell_type": "code",
   "execution_count": 55,
   "id": "fdea06e4",
   "metadata": {
    "ExecuteTime": {
     "end_time": "2025-09-28T15:04:32.293017Z",
     "start_time": "2025-09-28T15:04:32.157984Z"
    },
    "hidden": true
   },
   "outputs": [
    {
     "data": {
      "text/plain": [
       "torch.Size([4, 32, 64])"
      ]
     },
     "execution_count": 55,
     "metadata": {},
     "output_type": "execute_result"
    }
   ],
   "source": [
    "gru = nn.GRU(\n",
    "    input_size=dataloader.dataset.embedding_dim,\n",
    "    hidden_size=64, num_layers=2, bias=True, batch_first=True, bidirectional=True)\n",
    "seq, h_bd = gru(X_seq)\n",
    "h_bd.shape"
   ]
  },
  {
   "cell_type": "markdown",
   "id": "c78bb479",
   "metadata": {
    "hidden": true
   },
   "source": [
    "Здесь тензор `h_bd` имеет форму `[2*num_layers, batch_size, hidden_size]` — в каждом батче по 2 вектора на каждый слой."
   ]
  },
  {
   "cell_type": "code",
   "execution_count": 56,
   "id": "9ce01830",
   "metadata": {
    "ExecuteTime": {
     "end_time": "2025-09-28T15:04:32.313444Z",
     "start_time": "2025-09-28T15:04:32.295113Z"
    },
    "hidden": true
   },
   "outputs": [
    {
     "data": {
      "text/plain": [
       "torch.Size([32, 128])"
      ]
     },
     "execution_count": 56,
     "metadata": {},
     "output_type": "execute_result"
    }
   ],
   "source": [
    "final_hidden_state = torch.cat((h_bd[-2], h_bd[-1]), dim=1)\n",
    "final_hidden_state.shape # [batch_size, 2*hidden_size]"
   ]
  },
  {
   "cell_type": "markdown",
   "id": "3274feca",
   "metadata": {
    "ExecuteTime": {
     "end_time": "2025-09-27T11:38:14.055129Z",
     "start_time": "2025-09-27T11:38:13.997617Z"
    },
    "hidden": true
   },
   "source": [
    "В этом случае входным тензором первого линейного слоя является сконкатенированный тензор `final_hidden_state`"
   ]
  },
  {
   "cell_type": "markdown",
   "id": "12629533",
   "metadata": {
    "hidden": true
   },
   "source": [
    "Полностью модель реализована в `rnn.py` (случай `n_heads` = 0)"
   ]
  },
  {
   "cell_type": "code",
   "execution_count": 57,
   "id": "0905ca2c",
   "metadata": {
    "ExecuteTime": {
     "end_time": "2025-09-28T15:04:32.343664Z",
     "start_time": "2025-09-28T15:04:32.314607Z"
    },
    "hidden": true
   },
   "outputs": [],
   "source": [
    "del gru, seq, h_bd, final_hidden_state"
   ]
  },
  {
   "cell_type": "markdown",
   "id": "afeddec2",
   "metadata": {
    "heading_collapsed": true,
    "hidden": true
   },
   "source": [
    "## Attention"
   ]
  },
  {
   "cell_type": "markdown",
   "id": "8adbf3b1",
   "metadata": {
    "hidden": true
   },
   "source": [
    "Рекуррентные нейронные сети могут в процессе обработки длинных последовательностей забывать, что было в начале и даже в середине. Добавление обратного прохода проблему не решает. Кроме того, сети сложно запихнуть всю информацию о последовательности в два финальных вектора.\n",
    "\n",
    "Для решения этой проблемы применяется механизм внимания. При обработке рекуррентными сетями он обычно добавляется после последнего RNN-слоя в виде \"Self-Attention\". Для этого в `torch` есть слой `nn.MultiheadAttention`."
   ]
  },
  {
   "cell_type": "code",
   "execution_count": 58,
   "id": "f8b794d8",
   "metadata": {
    "ExecuteTime": {
     "end_time": "2025-09-28T15:04:32.365095Z",
     "start_time": "2025-09-28T15:04:32.346284Z"
    },
    "hidden": true
   },
   "outputs": [
    {
     "data": {
      "text/plain": [
       "MultiheadAttention(\n",
       "  (out_proj): NonDynamicallyQuantizableLinear(in_features=64, out_features=64, bias=True)\n",
       ")"
      ]
     },
     "execution_count": 58,
     "metadata": {},
     "output_type": "execute_result"
    }
   ],
   "source": [
    "multihead = nn.MultiheadAttention(embed_dim=h.shape[2], num_heads=4, batch_first=True)\n",
    "multihead"
   ]
  },
  {
   "cell_type": "markdown",
   "id": "ec34d0be",
   "metadata": {
    "hidden": true
   },
   "source": [
    "Чтобы применить этот слой к батчу из последовательности правильно надо передать маску, которая имеет форму `[batch_size, x.shape[1]]` и указывает в каких местах не надо игнорировать элемены входного массива `x` (точнее `key` и `value`)."
   ]
  },
  {
   "cell_type": "code",
   "execution_count": 59,
   "id": "f7a9b90e",
   "metadata": {
    "ExecuteTime": {
     "end_time": "2025-09-28T15:04:32.385788Z",
     "start_time": "2025-09-28T15:04:32.366527Z"
    },
    "hidden": true
   },
   "outputs": [
    {
     "data": {
      "text/plain": [
       "tensor([[False, False, False, False],\n",
       "        [False, False, False,  True],\n",
       "        [False, False,  True,  True]])"
      ]
     },
     "execution_count": 59,
     "metadata": {},
     "output_type": "execute_result"
    }
   ],
   "source": [
    "def make_mask(shape, lengths): # models.common.py\n",
    "    batch_size, max_len, _ = shape\n",
    "    return torch.arange(max_len).expand(batch_size, max_len) >= lengths.unsqueeze(1)\n",
    "make_mask((3,4, 32), lengths=torch.LongTensor([4,3,2]))"
   ]
  },
  {
   "cell_type": "code",
   "execution_count": 60,
   "id": "8f3afaca",
   "metadata": {
    "ExecuteTime": {
     "end_time": "2025-09-28T15:04:32.405693Z",
     "start_time": "2025-09-28T15:04:32.387154Z"
    },
    "hidden": true
   },
   "outputs": [
    {
     "data": {
      "text/plain": [
       "torch.Size([32, 354])"
      ]
     },
     "execution_count": 60,
     "metadata": {},
     "output_type": "execute_result"
    }
   ],
   "source": [
    "mask = make_mask(x.shape, lengths)\n",
    "mask.shape"
   ]
  },
  {
   "cell_type": "markdown",
   "id": "907a1645",
   "metadata": {
    "hidden": true
   },
   "source": [
    "Можно просто применить `Self-Attention` ко всей последовательности передав в `multihead` тензор `x` в качестве `query`, `key` и `value`, после чего выыделить нужный элемент в каждой последовательности."
   ]
  },
  {
   "cell_type": "code",
   "execution_count": 61,
   "id": "2ac58732",
   "metadata": {
    "ExecuteTime": {
     "end_time": "2025-09-28T15:04:32.470674Z",
     "start_time": "2025-09-28T15:04:32.407078Z"
    },
    "hidden": true
   },
   "outputs": [
    {
     "data": {
      "text/plain": [
       "(torch.Size([32, 354, 64]), torch.Size([32, 64]))"
      ]
     },
     "execution_count": 61,
     "metadata": {},
     "output_type": "execute_result"
    }
   ],
   "source": [
    "output, _ = multihead(query=x, key=x, value=x, key_padding_mask=mask)\n",
    "final_out = output[range(output.shape[0]), lengths-1]\n",
    "output.shape, final_out.shape"
   ]
  },
  {
   "cell_type": "markdown",
   "id": "54a4b916",
   "metadata": {
    "hidden": true
   },
   "source": [
    "Однако это не эффективно. К счастью `MultiheadAttention` может принимать на вход последовательности query и key разной длины (лишь длины value и key должны совпадать). Поэтому лучше применять внимание, взяв в качестве query последовательность единичной длины. Последняя получается из `h[-1]` добавлением оси 1."
   ]
  },
  {
   "cell_type": "code",
   "execution_count": 62,
   "id": "3e13ed10",
   "metadata": {
    "ExecuteTime": {
     "end_time": "2025-09-28T15:04:32.491285Z",
     "start_time": "2025-09-28T15:04:32.471844Z"
    },
    "hidden": true
   },
   "outputs": [
    {
     "data": {
      "text/plain": [
       "torch.Size([32, 1, 64])"
      ]
     },
     "execution_count": 62,
     "metadata": {},
     "output_type": "execute_result"
    }
   ],
   "source": [
    "hu = h[-1].unsqueeze(1)\n",
    "assert (hu.squeeze(1) == h[-1]).all()\n",
    "hu.shape"
   ]
  },
  {
   "cell_type": "markdown",
   "id": "99b04d28",
   "metadata": {
    "hidden": true
   },
   "source": [
    "Такой подход имеет линейную сложность относительно длины последовательности, вместо квадратичной сложности. "
   ]
  },
  {
   "cell_type": "code",
   "execution_count": 63,
   "id": "da8c0552",
   "metadata": {
    "ExecuteTime": {
     "end_time": "2025-09-28T15:04:32.513914Z",
     "start_time": "2025-09-28T15:04:32.492555Z"
    },
    "hidden": true
   },
   "outputs": [
    {
     "data": {
      "text/plain": [
       "torch.Size([32, 1, 64])"
      ]
     },
     "execution_count": 63,
     "metadata": {},
     "output_type": "execute_result"
    }
   ],
   "source": [
    "effectively_made_output, _ = multihead(query=hu, key=x, value=x, key_padding_mask=mask)\n",
    "effectively_made_output.shape"
   ]
  },
  {
   "cell_type": "code",
   "execution_count": 64,
   "id": "bf53532b",
   "metadata": {
    "ExecuteTime": {
     "end_time": "2025-09-28T15:04:32.534357Z",
     "start_time": "2025-09-28T15:04:32.515134Z"
    },
    "hidden": true
   },
   "outputs": [
    {
     "data": {
      "text/plain": [
       "torch.Size([32, 64])"
      ]
     },
     "execution_count": 64,
     "metadata": {},
     "output_type": "execute_result"
    }
   ],
   "source": [
    "effectively_made_output.squeeze_(1)\n",
    "effectively_made_output.shape"
   ]
  },
  {
   "cell_type": "markdown",
   "id": "f0fa44b5",
   "metadata": {
    "hidden": true
   },
   "source": [
    "Тензор `effectively_made_output` подаётся в линейные слои для классификации."
   ]
  },
  {
   "cell_type": "markdown",
   "id": "6b009121",
   "metadata": {
    "hidden": true
   },
   "source": [
    "Полностью модель реализована в `rnn.py` (случай `n_heads` > 0)"
   ]
  },
  {
   "cell_type": "code",
   "execution_count": 65,
   "id": "69fdce33",
   "metadata": {
    "ExecuteTime": {
     "end_time": "2025-09-28T15:04:32.553414Z",
     "start_time": "2025-09-28T15:04:32.535831Z"
    },
    "hidden": true
   },
   "outputs": [],
   "source": [
    "del multihead, hu, mask, effectively_made_output, h, x"
   ]
  },
  {
   "cell_type": "markdown",
   "id": "6585893a",
   "metadata": {
    "heading_collapsed": true,
    "hidden": true
   },
   "source": [
    "## Трансформер"
   ]
  },
  {
   "cell_type": "markdown",
   "id": "3e85f7eb",
   "metadata": {
    "hidden": true
   },
   "source": [
    "Трансформер реализован в `transformer.py` и состоит из следующих частей:\n",
    " - `AddCLS`: Добавление специального токена `[CLS]` (classification) в начало последовательности\n",
    " - `PositionalEncoding`: Синусоидальное позиционное кодирование\n",
    " - `TransformerEncoder`: Основной слой трансформера, состоящий из нескольких TransformerEncoderLayer\n",
    " - `MultiheadAttention` вместо последнего TransformerEncoderLayer\n",
    " - Плюс всё те же линейные слои для классификации"
   ]
  },
  {
   "cell_type": "markdown",
   "id": "364bff9c",
   "metadata": {
    "hidden": true
   },
   "source": [
    "`AddCLS` добавляет вектор размерности 300, элементами которого являются обучаемые веса, с помощью конкатенации "
   ]
  },
  {
   "cell_type": "code",
   "execution_count": 66,
   "id": "e1863216",
   "metadata": {
    "ExecuteTime": {
     "end_time": "2025-09-28T15:04:32.593484Z",
     "start_time": "2025-09-28T15:04:32.554844Z"
    },
    "hidden": true
   },
   "outputs": [
    {
     "data": {
      "text/plain": [
       "(torch.Size([32, 354, 300]),\n",
       " torch.Size([32, 355, 300]),\n",
       " tensor([354, 289, 202, 192, 190, 173, 151, 123, 107, 103,  99,  93,  92,  92,\n",
       "          91,  89,  86,  81,  79,  77,  77,  76,  76,  71,  71,  61,  60,  58,\n",
       "          58,  58,  46,  41]),\n",
       " tensor([355, 290, 203, 193, 191, 174, 152, 124, 108, 104, 100,  94,  93,  93,\n",
       "          92,  90,  87,  82,  80,  78,  78,  77,  77,  72,  72,  62,  61,  59,\n",
       "          59,  59,  47,  42]))"
      ]
     },
     "execution_count": 66,
     "metadata": {},
     "output_type": "execute_result"
    }
   ],
   "source": [
    "cls_adder = AddCLS(emb_dim=dataloader.dataset.embedding_dim)\n",
    "x, xengths = nn.utils.rnn.pad_packed_sequence(X_seq, batch_first=True)\n",
    "X, Lengths = cls_adder(x, lengths)\n",
    "assert (X[:, 1:] == x).all()\n",
    "assert (Lengths == lengths + 1).all()\n",
    "x.shape, X.shape, lengths, Lengths"
   ]
  },
  {
   "cell_type": "markdown",
   "id": "408cd98b",
   "metadata": {
    "hidden": true
   },
   "source": [
    "Далее к вектору `X_ext` прибавляется необучаемый вектор кодирующий позицию с помощью сунусов и косинусов"
   ]
  },
  {
   "cell_type": "code",
   "execution_count": 67,
   "id": "ed301cd9",
   "metadata": {
    "ExecuteTime": {
     "end_time": "2025-09-28T15:04:32.618341Z",
     "start_time": "2025-09-28T15:04:32.595057Z"
    },
    "hidden": true
   },
   "outputs": [
    {
     "data": {
      "text/plain": [
       "torch.Size([32, 355, 300])"
      ]
     },
     "execution_count": 67,
     "metadata": {},
     "output_type": "execute_result"
    }
   ],
   "source": [
    "pos_enc = PositionalEncoding(\n",
    "        embedding_dim=dataloader.dataset.embedding_dim,\n",
    "        max_len=dataloader.dataset.max_length,\n",
    "    )\n",
    "X = pos_enc(X) # прибавление происходит в методе forward\n",
    "X.shape"
   ]
  },
  {
   "cell_type": "markdown",
   "id": "b8394641",
   "metadata": {
    "hidden": true
   },
   "source": [
    "Основной слой — это трансформер, преоюразующий последовательность в последовательность. Он содержит Multihead Self-Attention, Feed Forward, нормализацию, dropout и resudual connections (для Sefl-Atention и для Feed Forward). Как в отдельный Multihead Attention, сюда передаётся маска паддинга."
   ]
  },
  {
   "cell_type": "code",
   "execution_count": 68,
   "id": "f89beb5d",
   "metadata": {
    "ExecuteTime": {
     "end_time": "2025-09-28T15:04:33.407046Z",
     "start_time": "2025-09-28T15:04:32.619718Z"
    },
    "hidden": true
   },
   "outputs": [
    {
     "data": {
      "text/plain": [
       "torch.Size([32, 355, 300])"
      ]
     },
     "execution_count": 68,
     "metadata": {},
     "output_type": "execute_result"
    }
   ],
   "source": [
    "encoder_layer = nn.TransformerEncoderLayer(\n",
    "        d_model=dataloader.dataset.embedding_dim,\n",
    "        nhead=4,\n",
    "        dim_feedforward=1500,\n",
    "        batch_first=True,\n",
    "    )\n",
    "tr_encoder = nn.TransformerEncoder(encoder_layer, num_layers=2)\n",
    "Mask = make_mask(X.shape, Lengths)\n",
    "out = tr_encoder(X, src_key_padding_mask=Mask)\n",
    "out.shape"
   ]
  },
  {
   "cell_type": "markdown",
   "id": "a952dd54",
   "metadata": {
    "hidden": true
   },
   "source": [
    "В качестве входа первого линейного слоя можно взять просто `tr_out[:, 0, :]`, но, как и в случае с RNN, это неэффективно. Поэтому добавляем ещё один MultiheadAttention с query единичной длины + resudual connections. Вместе с последующими линейными слоями это фактически заменяет ещё один слой TransformerEncoderLayer. Можно было ещё линейных слоёв добавить, но должно и так работать."
   ]
  },
  {
   "cell_type": "code",
   "execution_count": 69,
   "id": "48aac7ef",
   "metadata": {
    "ExecuteTime": {
     "end_time": "2025-09-28T15:04:33.465239Z",
     "start_time": "2025-09-28T15:04:33.408101Z"
    },
    "hidden": true
   },
   "outputs": [
    {
     "data": {
      "text/plain": [
       "torch.Size([32, 300])"
      ]
     },
     "execution_count": 69,
     "metadata": {},
     "output_type": "execute_result"
    }
   ],
   "source": [
    "multihead = nn.MultiheadAttention(\n",
    "        embed_dim=dataloader.dataset.embedding_dim,\n",
    "        num_heads=4,\n",
    "        batch_first=True\n",
    "    )\n",
    "\n",
    "query = out[:, 0:1, :]\n",
    "multihead_out, _ = multihead(query, out, out, key_padding_mask=Mask)\n",
    "input_of_linear_layer= (multihead_out + query).squeeze(1)\n",
    "input_of_linear_layer.shape"
   ]
  },
  {
   "cell_type": "code",
   "execution_count": 70,
   "id": "cf90b54c",
   "metadata": {
    "ExecuteTime": {
     "end_time": "2025-09-28T15:04:33.484448Z",
     "start_time": "2025-09-28T15:04:33.466535Z"
    },
    "hidden": true
   },
   "outputs": [],
   "source": [
    "del encoder_layer, tr_encoder, multihead, cls_adder, pos_enc\n",
    "del out, query, multihead_out, input_of_linear_layer, x, lengths, Lengths, X, Mask"
   ]
  },
  {
   "cell_type": "markdown",
   "id": "f426ddc8",
   "metadata": {},
   "source": [
    "# Обучение и оценка"
   ]
  },
  {
   "cell_type": "markdown",
   "id": "cf26afd4",
   "metadata": {},
   "source": [
    "## Загрузчики для оценки"
   ]
  },
  {
   "cell_type": "markdown",
   "id": "a6506c71",
   "metadata": {},
   "source": [
    "Предобоработаем тестовые данные для создания датасета с загрузчиком"
   ]
  },
  {
   "cell_type": "code",
   "execution_count": 71,
   "id": "472f4108",
   "metadata": {
    "ExecuteTime": {
     "end_time": "2025-09-28T15:04:33.504097Z",
     "start_time": "2025-09-28T15:04:33.485863Z"
    }
   },
   "outputs": [],
   "source": [
    "#preprocess(path='test.csv', do_fit=False, filename='train75', unk_threshold=-1)\n",
    "#preprocess(path='val25.pq', do_fit=False, filename='train75',\n",
    "#           unk_threshold=-1, npz_path='val4test25.npz')"
   ]
  },
  {
   "cell_type": "code",
   "execution_count": 72,
   "id": "18b88b2b",
   "metadata": {
    "ExecuteTime": {
     "end_time": "2025-09-28T15:04:33.584812Z",
     "start_time": "2025-09-28T15:04:33.506122Z"
    }
   },
   "outputs": [
    {
     "data": {
      "text/plain": [
       "13554"
      ]
     },
     "execution_count": 72,
     "metadata": {},
     "output_type": "execute_result"
    }
   ],
   "source": [
    "valloader = make_dataloader(\n",
    "        path='val4test25', # вариант без фильтрации\n",
    "        vector_path='train75_vectors.npy',\n",
    "        batch_size=32,\n",
    "        for_train=False\n",
    "    )\n",
    "len(valloader.dataset)"
   ]
  },
  {
   "cell_type": "code",
   "execution_count": 73,
   "id": "f6c900e3",
   "metadata": {
    "ExecuteTime": {
     "end_time": "2025-09-28T15:04:33.789590Z",
     "start_time": "2025-09-28T15:04:33.586648Z"
    }
   },
   "outputs": [
    {
     "data": {
      "text/plain": [
       "54200"
      ]
     },
     "execution_count": 73,
     "metadata": {},
     "output_type": "execute_result"
    }
   ],
   "source": [
    "testloader = make_dataloader(\n",
    "        path='test', # эти данные тоже не фильтровались\n",
    "        vector_path='train75_vectors.npy',\n",
    "        batch_size=1,\n",
    "        for_train=False,\n",
    "        shuffle=False,\n",
    "    )\n",
    "len(testloader.dataset)"
   ]
  },
  {
   "cell_type": "markdown",
   "id": "e33926d7",
   "metadata": {},
   "source": [
    "Так же понадобятся следующие функции"
   ]
  },
  {
   "cell_type": "code",
   "execution_count": 74,
   "id": "1bb855de",
   "metadata": {
    "ExecuteTime": {
     "end_time": "2025-09-28T15:04:33.808216Z",
     "start_time": "2025-09-28T15:04:33.790992Z"
    }
   },
   "outputs": [],
   "source": [
    "def load_val(path='data/val25.pq', from_row=0, to_row=None):\n",
    "    \"\"\" Загрузка данных из parquet-файла с номерами строк из заданного диипазона \"\"\"\n",
    "    df_val = pd.read_parquet(path).reset_index().drop('index', axis=1)\n",
    "    if to_row is None:\n",
    "        to_row = len(df_val)\n",
    "    return df_val.iloc[from_row:to_row]"
   ]
  },
  {
   "cell_type": "code",
   "execution_count": 75,
   "id": "fabee727",
   "metadata": {
    "ExecuteTime": {
     "end_time": "2025-09-28T15:04:33.827999Z",
     "start_time": "2025-09-28T15:04:33.809635Z"
    }
   },
   "outputs": [],
   "source": [
    "def prediction_table(dataloader, model, from_row=0, to_row=None):\n",
    "    \"\"\" Загрузка данных через dataloader с номерами строк из заданного диипазона\n",
    "        для получения на них предсказаний\n",
    "    \"\"\"\n",
    "    model.eval()\n",
    "    freeze(model)\n",
    "    labels = []\n",
    "    preds = []\n",
    "    for seq, y in dataloader:\n",
    "        labels.extend(y.numpy().tolist())\n",
    "        p = model(seq)\n",
    "        p = np.argmax(p.numpy(), axis=1)\n",
    "        preds.extend(p.tolist())\n",
    "        if to_row is not None and len(preds) >= to_row:\n",
    "            break\n",
    "    if to_row is None:\n",
    "        to_row = len(preds)\n",
    "    return pd.DataFrame(dict(preds=preds[from_row:to_row], labels=labels[from_row:to_row]))"
   ]
  },
  {
   "cell_type": "markdown",
   "id": "b62af897",
   "metadata": {},
   "source": [
    "## Параметры"
   ]
  },
  {
   "cell_type": "markdown",
   "id": "f356bd94",
   "metadata": {},
   "source": [
    "Используемый оптимизатор:\n",
    "\n",
    "AdamW (\n",
    "\n",
    " - amsgrad: False\n",
    " - betas: (0.9, 0.999)\n",
    " - capturable: False\n",
    " - decoupled_weight_decay: True\n",
    " - differentiable: False\n",
    " - eps: 1e-08\n",
    " - foreach: None\n",
    " - fused: None\n",
    " - lr: 0.0001\n",
    " - maximize: False\n",
    " - weight_decay: 0.01\n",
    "  \n",
    ")"
   ]
  },
  {
   "cell_type": "markdown",
   "id": "9c71839a",
   "metadata": {},
   "source": [
    "Другие параметры обучения (тоже фиксированы):\n",
    " - EPOCHS=25\n",
    " - BATCH_SIZE=32\n",
    " \n",
    "Параметры модели (пробуются разные):\n",
    " - NET_CLASS — тип RNN-слоя, либо равен 'transformer'\n",
    " - HIDDEN_DIM — задаёт `hidden_dim` для RNN, или `dim_feedforward` для 'transformer' \n",
    " - DROPOUT — для RNN, feedforward и attention\n",
    " - DROPOUT_LIN — для линейных слоёв\n",
    " - N_LAYERS — количество RNN-подслоёв или `TransformerEncoderLayer` (если N_HEAD > 0, то есть ещё один слой внимания без FNN)\n",
    " - N_HEADS — количество «голов» внимания (значение 0 используется для RNN без внимания)\n",
    " - BIDIRECTIONAL (используется только в случае RNN без внимания)"
   ]
  },
  {
   "cell_type": "markdown",
   "id": "76360871",
   "metadata": {},
   "source": [
    "Для обучения использовался класс `Trainer`. Его можно так же использовать и для оценки."
   ]
  },
  {
   "cell_type": "code",
   "execution_count": 76,
   "id": "0dbf3315",
   "metadata": {
    "ExecuteTime": {
     "end_time": "2025-09-28T15:04:33.846846Z",
     "start_time": "2025-09-28T15:04:33.829537Z"
    }
   },
   "outputs": [],
   "source": [
    "trainer = Trainer(device='cpu', checkpoints_dir=None, logger=None)"
   ]
  },
  {
   "cell_type": "code",
   "execution_count": 77,
   "id": "1d82bbfe",
   "metadata": {
    "ExecuteTime": {
     "end_time": "2025-09-28T15:04:33.866201Z",
     "start_time": "2025-09-28T15:04:33.848298Z"
    }
   },
   "outputs": [],
   "source": [
    "# Используемые метрики\n",
    "\n",
    "def f1_macro(gt, pred):\n",
    "    assert len(gt) == len(pred)\n",
    "    return f1_score(gt, pred, average=\"macro\")\n",
    "\n",
    "def accuracy(gt, pred):\n",
    "    assert len(gt) == len(pred)\n",
    "    return (gt == pred).mean()"
   ]
  },
  {
   "cell_type": "markdown",
   "id": "58dc5d2a",
   "metadata": {},
   "source": [
    "## RNN"
   ]
  },
  {
   "cell_type": "markdown",
   "id": "dc0f719b",
   "metadata": {},
   "source": [
    "Модель RNN с GRU-слоями без внимания:\n",
    " - NET_CLASS = 'GRU'\n",
    " - HIDDEN_DIM = 128\n",
    " - DROPOUT = 0.1\n",
    " - DROPOUT_LIN = 0.2\n",
    " - N_LAYERS = 2\n",
    " - BIDIRECTIONAL = True\n",
    "\n",
    "Получены метрики:\n",
    " - Train:          f1_macro = 0.409\n",
    "\n",
    " - Validation:     f1_macro = 0.304\n",
    "\n",
    "Best checkpoints with this metric was saved to 'GRU_l2_h128_D2_ep25_best.pt' at epoch 22"
   ]
  },
  {
   "cell_type": "code",
   "execution_count": 78,
   "id": "d8b4e2cd",
   "metadata": {
    "ExecuteTime": {
     "end_time": "2025-09-28T15:04:34.015085Z",
     "start_time": "2025-09-28T15:04:33.868291Z"
    }
   },
   "outputs": [
    {
     "data": {
      "image/png": "[encoded data removed]",
      "text/plain": [
       "<Figure size 1000x500 with 1 Axes>"
      ]
     },
     "metadata": {},
     "output_type": "display_data"
    }
   ],
   "source": [
    "history = load_npz('history/2025-09-28_01:28:59.npz')\n",
    "rnn_name = 'GRU_l2_h128_D2_ep25'\n",
    "compare_on_plot(history, name=rnn_name, metric_name='f1_macro')"
   ]
  },
  {
   "cell_type": "code",
   "execution_count": 79,
   "id": "5f0e8f71",
   "metadata": {
    "ExecuteTime": {
     "end_time": "2025-09-28T15:04:34.051328Z",
     "start_time": "2025-09-28T15:04:34.016487Z"
    }
   },
   "outputs": [
    {
     "data": {
      "text/plain": [
       "<All keys matched successfully>"
      ]
     },
     "execution_count": 79,
     "metadata": {},
     "output_type": "execute_result"
    }
   ],
   "source": [
    "rnn_model = RNNModel(\n",
    "         300, # разнерность векторов в glove\n",
    "         output_dim=27, # количество жанров\n",
    "         hidden_dim=128,\n",
    "         rnn_class='GRU',\n",
    "         bidirectional=True,\n",
    "         dropout=0, # для оценки не нужны\n",
    "         dropout_lin=0,\n",
    "         n_layers=2,\n",
    "         two_dense=True,\n",
    "         n_heads = 0, # без внимания\n",
    "    ).eval()\n",
    "freeze(rnn_model)\n",
    "checkpoint = f\"checkpoints/{rnn_name}_best.pt\"\n",
    "rnn_model.load_state_dict(torch.load(checkpoint, map_location='cpu'))"
   ]
  },
  {
   "cell_type": "code",
   "execution_count": 80,
   "id": "07efc026",
   "metadata": {
    "ExecuteTime": {
     "end_time": "2025-09-28T15:05:25.143606Z",
     "start_time": "2025-09-28T15:04:34.054021Z"
    }
   },
   "outputs": [
    {
     "name": "stderr",
     "output_type": "stream",
     "text": [
      "100%|██████████| 424/424 [00:51<00:00,  8.30it/s]\n"
     ]
    }
   ],
   "source": [
    "out_dict = {}\n",
    "metrics_on_test = trainer.evaluation(\n",
    "    rnn_model,\n",
    "    valloader,\n",
    "    out_dict=out_dict,\n",
    "    metrics=[f1_macro, accuracy],\n",
    ")"
   ]
  },
  {
   "cell_type": "code",
   "execution_count": 81,
   "id": "4c8366d1",
   "metadata": {
    "ExecuteTime": {
     "end_time": "2025-09-28T15:05:25.164549Z",
     "start_time": "2025-09-28T15:05:25.145539Z"
    }
   },
   "outputs": [
    {
     "name": "stdout",
     "output_type": "stream",
     "text": [
      "On validation data: F1 (macro) = 0.302\n",
      "On validation data: accuracy = 0.357\n"
     ]
    }
   ],
   "source": [
    "print(\"On validation data: F1 (macro) = %.3f\" % metrics_on_test[0])\n",
    "print(\"On validation data: accuracy = %.3f\" % metrics_on_test[1])"
   ]
  },
  {
   "cell_type": "markdown",
   "id": "48de550d",
   "metadata": {},
   "source": [
    "Посмотрим на первые несколько предсказаний"
   ]
  },
  {
   "cell_type": "code",
   "execution_count": 120,
   "id": "307aa6a4",
   "metadata": {
    "ExecuteTime": {
     "end_time": "2025-09-30T19:17:21.698009Z",
     "start_time": "2025-09-30T19:17:21.657920Z"
    }
   },
   "outputs": [],
   "source": [
    "pd.set_option('display.max_columns', None)\n",
    "pd.set_option('display.max_rows', None)\n",
    "genre_enc = GenreEncoder(txt_path='train75_genres.txt')"
   ]
  },
  {
   "cell_type": "code",
   "execution_count": 83,
   "id": "490e3c2e",
   "metadata": {
    "ExecuteTime": {
     "end_time": "2025-09-28T15:05:25.210651Z",
     "start_time": "2025-09-28T15:05:25.192069Z"
    }
   },
   "outputs": [],
   "source": [
    "from_row=0\n",
    "to_row_val=10"
   ]
  },
  {
   "cell_type": "code",
   "execution_count": 84,
   "id": "a69e8be3",
   "metadata": {
    "ExecuteTime": {
     "end_time": "2025-09-28T15:05:25.431876Z",
     "start_time": "2025-09-28T15:05:25.212172Z"
    }
   },
   "outputs": [
    {
     "data": {
      "text/html": [
       "<div>\n",
       "<style scoped>\n",
       "    .dataframe tbody tr th:only-of-type {\n",
       "        vertical-align: middle;\n",
       "    }\n",
       "\n",
       "    .dataframe tbody tr th {\n",
       "        vertical-align: top;\n",
       "    }\n",
       "\n",
       "    .dataframe thead th {\n",
       "        text-align: right;\n",
       "    }\n",
       "</style>\n",
       "<table border=\"1\" class=\"dataframe\">\n",
       "  <thead>\n",
       "    <tr style=\"text-align: right;\">\n",
       "      <th></th>\n",
       "      <th>name</th>\n",
       "      <th>genre</th>\n",
       "      <th>text</th>\n",
       "      <th>preds_rnn</th>\n",
       "    </tr>\n",
       "  </thead>\n",
       "  <tbody>\n",
       "    <tr>\n",
       "      <th>0</th>\n",
       "      <td>Tony &amp; the Swordfish Tattoo (2017)</td>\n",
       "      <td>short</td>\n",
       "      <td>Tony Campi, a recreational fisherman, tried f...</td>\n",
       "      <td>documentary</td>\n",
       "    </tr>\n",
       "    <tr>\n",
       "      <th>1</th>\n",
       "      <td>Two Toes: The Coyote Legend of Green River (?...</td>\n",
       "      <td>drama</td>\n",
       "      <td>At the height of the Great Depression, after ...</td>\n",
       "      <td>reality-tv</td>\n",
       "    </tr>\n",
       "    <tr>\n",
       "      <th>2</th>\n",
       "      <td>Le silence de la peur (2002)</td>\n",
       "      <td>drama</td>\n",
       "      <td>Children are the victims of rackets and viole...</td>\n",
       "      <td>mystery</td>\n",
       "    </tr>\n",
       "    <tr>\n",
       "      <th>3</th>\n",
       "      <td>Intertwined (2015)</td>\n",
       "      <td>short</td>\n",
       "      <td>Chasing dreams. Leo Armstrong born a dancer h...</td>\n",
       "      <td>western</td>\n",
       "    </tr>\n",
       "    <tr>\n",
       "      <th>4</th>\n",
       "      <td>Q.L.U.E: The Forgotten Man Part Two (2014)</td>\n",
       "      <td>action</td>\n",
       "      <td>Shortly after Ace Queens' assassination, Davi...</td>\n",
       "      <td>biography</td>\n",
       "    </tr>\n",
       "    <tr>\n",
       "      <th>5</th>\n",
       "      <td>Santoro O Homem e Sua Música (2015)</td>\n",
       "      <td>documentary</td>\n",
       "      <td>Santoro- The Man and His Music (75 ', color a...</td>\n",
       "      <td>horror</td>\n",
       "    </tr>\n",
       "    <tr>\n",
       "      <th>6</th>\n",
       "      <td>Satte Farben vor Schwarz (2010)</td>\n",
       "      <td>drama</td>\n",
       "      <td>The love story of an elderly couple. Having a...</td>\n",
       "      <td>crime</td>\n",
       "    </tr>\n",
       "    <tr>\n",
       "      <th>7</th>\n",
       "      <td>\"Kicsi ország, kicsi Kína\" (2015)</td>\n",
       "      <td>documentary</td>\n",
       "      <td>In 1989, Hungary opened its doors to the Chin...</td>\n",
       "      <td>family</td>\n",
       "    </tr>\n",
       "    <tr>\n",
       "      <th>8</th>\n",
       "      <td>Reisen ins Leben (1996)</td>\n",
       "      <td>documentary</td>\n",
       "      <td>Journey into Life follows the struggles of th...</td>\n",
       "      <td>documentary</td>\n",
       "    </tr>\n",
       "    <tr>\n",
       "      <th>9</th>\n",
       "      <td>The Bookfair Murders (2000)</td>\n",
       "      <td>mystery</td>\n",
       "      <td>Halifax Chronicle-Herald newspaper reporter J...</td>\n",
       "      <td>adult</td>\n",
       "    </tr>\n",
       "  </tbody>\n",
       "</table>\n",
       "</div>"
      ],
      "text/plain": [
       "                                                name        genre  \\\n",
       "0                Tony & the Swordfish Tattoo (2017)         short   \n",
       "1   Two Toes: The Coyote Legend of Green River (?...        drama   \n",
       "2                      Le silence de la peur (2002)         drama   \n",
       "3                                Intertwined (2015)         short   \n",
       "4        Q.L.U.E: The Forgotten Man Part Two (2014)        action   \n",
       "5               Santoro O Homem e Sua Música (2015)   documentary   \n",
       "6                   Satte Farben vor Schwarz (2010)         drama   \n",
       "7                 \"Kicsi ország, kicsi Kína\" (2015)   documentary   \n",
       "8                           Reisen ins Leben (1996)   documentary   \n",
       "9                       The Bookfair Murders (2000)       mystery   \n",
       "\n",
       "                                                text    preds_rnn  \n",
       "0   Tony Campi, a recreational fisherman, tried f...  documentary  \n",
       "1   At the height of the Great Depression, after ...   reality-tv  \n",
       "2   Children are the victims of rackets and viole...      mystery  \n",
       "3   Chasing dreams. Leo Armstrong born a dancer h...      western  \n",
       "4   Shortly after Ace Queens' assassination, Davi...    biography  \n",
       "5   Santoro- The Man and His Music (75 ', color a...       horror  \n",
       "6   The love story of an elderly couple. Having a...        crime  \n",
       "7   In 1989, Hungary opened its doors to the Chin...       family  \n",
       "8   Journey into Life follows the struggles of th...  documentary  \n",
       "9   Halifax Chronicle-Herald newspaper reporter J...        adult  "
      ]
     },
     "execution_count": 84,
     "metadata": {},
     "output_type": "execute_result"
    }
   ],
   "source": [
    "val_preds = prediction_table(valloader, rnn_model, from_row=from_row, to_row=to_row_val)['preds']\n",
    "df_val = load_val('data/val25.pq', from_row, to_row_val)\n",
    "df_val['preds_rnn'] = val_preds.apply(genre_enc.decode)\n",
    "df_val"
   ]
  },
  {
   "cell_type": "markdown",
   "id": "afce74aa",
   "metadata": {},
   "source": [
    "В `test.csv` нет меток (засада!)\n",
    "\n",
    "Пришлось погуглить."
   ]
  },
  {
   "cell_type": "code",
   "execution_count": 85,
   "id": "9ef404a5",
   "metadata": {
    "ExecuteTime": {
     "end_time": "2025-09-28T15:05:25.456896Z",
     "start_time": "2025-09-28T15:05:25.433598Z"
    }
   },
   "outputs": [],
   "source": [
    "from_row=0\n",
    "to_row=21\n",
    "first_test_genres = [\n",
    "       'thriller', 'comedy', 'documentary', 'drama', 'drama', # 0–4\n",
    "       'horror', 'drama', 'comedy', 'documentary', 'drama', \n",
    "        'drama', 'drama', 'drama', 'drama', 'short', # 10–14\n",
    "        'documentary', 'comedy', 'drama', 'documentary', 'documentary',\n",
    "        'short', # 20\n",
    "    ]\n",
    "df_test = pd.read_csv('data/test.csv', nrows=to_row).iloc[from_row:]\n",
    "df_test['labels'] = first_test_genres"
   ]
  },
  {
   "cell_type": "code",
   "execution_count": 86,
   "id": "84e9df3f",
   "metadata": {
    "ExecuteTime": {
     "end_time": "2025-09-28T15:05:25.764122Z",
     "start_time": "2025-09-28T15:05:25.458234Z"
    },
    "scrolled": false
   },
   "outputs": [
    {
     "data": {
      "text/html": [
       "<div>\n",
       "<style scoped>\n",
       "    .dataframe tbody tr th:only-of-type {\n",
       "        vertical-align: middle;\n",
       "    }\n",
       "\n",
       "    .dataframe tbody tr th {\n",
       "        vertical-align: top;\n",
       "    }\n",
       "\n",
       "    .dataframe thead th {\n",
       "        text-align: right;\n",
       "    }\n",
       "</style>\n",
       "<table border=\"1\" class=\"dataframe\">\n",
       "  <thead>\n",
       "    <tr style=\"text-align: right;\">\n",
       "      <th></th>\n",
       "      <th>name</th>\n",
       "      <th>text</th>\n",
       "      <th>labels</th>\n",
       "      <th>preds_rnn</th>\n",
       "    </tr>\n",
       "  </thead>\n",
       "  <tbody>\n",
       "    <tr>\n",
       "      <th>0</th>\n",
       "      <td>Edgar's Lunch (1998)</td>\n",
       "      <td>L.R. Brane loves his life - his car, his apar...</td>\n",
       "      <td>thriller</td>\n",
       "      <td>thriller</td>\n",
       "    </tr>\n",
       "    <tr>\n",
       "      <th>1</th>\n",
       "      <td>La guerra de papá (1977)</td>\n",
       "      <td>Spain, March 1964: Quico is a very naughty ch...</td>\n",
       "      <td>comedy</td>\n",
       "      <td>drama</td>\n",
       "    </tr>\n",
       "    <tr>\n",
       "      <th>2</th>\n",
       "      <td>Off the Beaten Track (2010)</td>\n",
       "      <td>One year in the life of Albin and his family ...</td>\n",
       "      <td>documentary</td>\n",
       "      <td>documentary</td>\n",
       "    </tr>\n",
       "    <tr>\n",
       "      <th>3</th>\n",
       "      <td>Meu Amigo Hindu (2015)</td>\n",
       "      <td>His father has died, he hasn't spoken with hi...</td>\n",
       "      <td>drama</td>\n",
       "      <td>family</td>\n",
       "    </tr>\n",
       "    <tr>\n",
       "      <th>4</th>\n",
       "      <td>Er nu zhai (1955)</td>\n",
       "      <td>Before he was known internationally as a mart...</td>\n",
       "      <td>drama</td>\n",
       "      <td>romance</td>\n",
       "    </tr>\n",
       "    <tr>\n",
       "      <th>5</th>\n",
       "      <td>Riddle Room (2016)</td>\n",
       "      <td>Emily Burns is being held captive in a room w...</td>\n",
       "      <td>horror</td>\n",
       "      <td>thriller</td>\n",
       "    </tr>\n",
       "    <tr>\n",
       "      <th>6</th>\n",
       "      <td>L'amica (1969)</td>\n",
       "      <td>The beautiful but neglected wife of a brillia...</td>\n",
       "      <td>drama</td>\n",
       "      <td>drama</td>\n",
       "    </tr>\n",
       "    <tr>\n",
       "      <th>7</th>\n",
       "      <td>Ina Mina Dika (1989)</td>\n",
       "      <td>Vasu Inamdar (Ina) suffers from a disorder wh...</td>\n",
       "      <td>comedy</td>\n",
       "      <td>drama</td>\n",
       "    </tr>\n",
       "    <tr>\n",
       "      <th>8</th>\n",
       "      <td>Equinox Special: Britain's Tornados (2005)</td>\n",
       "      <td>An insight into the tornados that hit Kensal ...</td>\n",
       "      <td>documentary</td>\n",
       "      <td>documentary</td>\n",
       "    </tr>\n",
       "    <tr>\n",
       "      <th>9</th>\n",
       "      <td>Press (2011)</td>\n",
       "      <td>Press is a story of young people overwhelmed ...</td>\n",
       "      <td>drama</td>\n",
       "      <td>short</td>\n",
       "    </tr>\n",
       "    <tr>\n",
       "      <th>10</th>\n",
       "      <td>The Firm Man (1975)</td>\n",
       "      <td>Not much is known about the firm for which bu...</td>\n",
       "      <td>drama</td>\n",
       "      <td>drama</td>\n",
       "    </tr>\n",
       "    <tr>\n",
       "      <th>11</th>\n",
       "      <td>Out of Here (2013/I)</td>\n",
       "      <td>After a year traveling the world, twentysomet...</td>\n",
       "      <td>drama</td>\n",
       "      <td>short</td>\n",
       "    </tr>\n",
       "    <tr>\n",
       "      <th>12</th>\n",
       "      <td>Tip 2 (1990)</td>\n",
       "      <td>Young-ja initially mocks the shy, introverted...</td>\n",
       "      <td>drama</td>\n",
       "      <td>drama</td>\n",
       "    </tr>\n",
       "    <tr>\n",
       "      <th>13</th>\n",
       "      <td>Hero of the Day (2012)</td>\n",
       "      <td>Mark Chambers, a down and out former professi...</td>\n",
       "      <td>drama</td>\n",
       "      <td>war</td>\n",
       "    </tr>\n",
       "    <tr>\n",
       "      <th>14</th>\n",
       "      <td>Das letzte Mal (2000)</td>\n",
       "      <td>On the night a husband finally brings himself...</td>\n",
       "      <td>short</td>\n",
       "      <td>adult</td>\n",
       "    </tr>\n",
       "    <tr>\n",
       "      <th>15</th>\n",
       "      <td>The Man in Every Shot (2010)</td>\n",
       "      <td>Ex-Formula 1 rookie of the year and Motor Rac...</td>\n",
       "      <td>documentary</td>\n",
       "      <td>sport</td>\n",
       "    </tr>\n",
       "    <tr>\n",
       "      <th>16</th>\n",
       "      <td>The Kettles on Old MacDonald's Farm (1957)</td>\n",
       "      <td>Ma and Pa do their bit to hook lumberman Brad...</td>\n",
       "      <td>comedy</td>\n",
       "      <td>musical</td>\n",
       "    </tr>\n",
       "    <tr>\n",
       "      <th>17</th>\n",
       "      <td>The Patriot (1916)</td>\n",
       "      <td>Bob Wiley, a veteran and a patriot, discovers...</td>\n",
       "      <td>drama</td>\n",
       "      <td>western</td>\n",
       "    </tr>\n",
       "    <tr>\n",
       "      <th>18</th>\n",
       "      <td>\"The Rogue Legends Series\" (2017)</td>\n",
       "      <td>Eugen Sandow was a German strongman, circus p...</td>\n",
       "      <td>documentary</td>\n",
       "      <td>reality-tv</td>\n",
       "    </tr>\n",
       "    <tr>\n",
       "      <th>19</th>\n",
       "      <td>A Case of Mistaken Identity? (2008)</td>\n",
       "      <td>Joseph Jacoby introduces himself. He's a writ...</td>\n",
       "      <td>documentary</td>\n",
       "      <td>thriller</td>\n",
       "    </tr>\n",
       "    <tr>\n",
       "      <th>20</th>\n",
       "      <td>Dinner for Three (2016)</td>\n",
       "      <td>Trevor lives alone in the middle of nowhere, ...</td>\n",
       "      <td>short</td>\n",
       "      <td>comedy</td>\n",
       "    </tr>\n",
       "  </tbody>\n",
       "</table>\n",
       "</div>"
      ],
      "text/plain": [
       "                                            name  \\\n",
       "0                          Edgar's Lunch (1998)    \n",
       "1                      La guerra de papá (1977)    \n",
       "2                   Off the Beaten Track (2010)    \n",
       "3                        Meu Amigo Hindu (2015)    \n",
       "4                             Er nu zhai (1955)    \n",
       "5                            Riddle Room (2016)    \n",
       "6                                L'amica (1969)    \n",
       "7                          Ina Mina Dika (1989)    \n",
       "8    Equinox Special: Britain's Tornados (2005)    \n",
       "9                                  Press (2011)    \n",
       "10                          The Firm Man (1975)    \n",
       "11                         Out of Here (2013/I)    \n",
       "12                                 Tip 2 (1990)    \n",
       "13                       Hero of the Day (2012)    \n",
       "14                        Das letzte Mal (2000)    \n",
       "15                 The Man in Every Shot (2010)    \n",
       "16   The Kettles on Old MacDonald's Farm (1957)    \n",
       "17                           The Patriot (1916)    \n",
       "18            \"The Rogue Legends Series\" (2017)    \n",
       "19          A Case of Mistaken Identity? (2008)    \n",
       "20                      Dinner for Three (2016)    \n",
       "\n",
       "                                                 text       labels  \\\n",
       "0    L.R. Brane loves his life - his car, his apar...     thriller   \n",
       "1    Spain, March 1964: Quico is a very naughty ch...       comedy   \n",
       "2    One year in the life of Albin and his family ...  documentary   \n",
       "3    His father has died, he hasn't spoken with hi...        drama   \n",
       "4    Before he was known internationally as a mart...        drama   \n",
       "5    Emily Burns is being held captive in a room w...       horror   \n",
       "6    The beautiful but neglected wife of a brillia...        drama   \n",
       "7    Vasu Inamdar (Ina) suffers from a disorder wh...       comedy   \n",
       "8    An insight into the tornados that hit Kensal ...  documentary   \n",
       "9    Press is a story of young people overwhelmed ...        drama   \n",
       "10   Not much is known about the firm for which bu...        drama   \n",
       "11   After a year traveling the world, twentysomet...        drama   \n",
       "12   Young-ja initially mocks the shy, introverted...        drama   \n",
       "13   Mark Chambers, a down and out former professi...        drama   \n",
       "14   On the night a husband finally brings himself...        short   \n",
       "15   Ex-Formula 1 rookie of the year and Motor Rac...  documentary   \n",
       "16   Ma and Pa do their bit to hook lumberman Brad...       comedy   \n",
       "17   Bob Wiley, a veteran and a patriot, discovers...        drama   \n",
       "18   Eugen Sandow was a German strongman, circus p...  documentary   \n",
       "19   Joseph Jacoby introduces himself. He's a writ...  documentary   \n",
       "20   Trevor lives alone in the middle of nowhere, ...        short   \n",
       "\n",
       "      preds_rnn  \n",
       "0      thriller  \n",
       "1         drama  \n",
       "2   documentary  \n",
       "3        family  \n",
       "4       romance  \n",
       "5      thriller  \n",
       "6         drama  \n",
       "7         drama  \n",
       "8   documentary  \n",
       "9         short  \n",
       "10        drama  \n",
       "11        short  \n",
       "12        drama  \n",
       "13          war  \n",
       "14        adult  \n",
       "15        sport  \n",
       "16      musical  \n",
       "17      western  \n",
       "18   reality-tv  \n",
       "19     thriller  \n",
       "20       comedy  "
      ]
     },
     "execution_count": 86,
     "metadata": {},
     "output_type": "execute_result"
    }
   ],
   "source": [
    "test_preds = prediction_table(testloader, rnn_model, from_row=from_row, to_row=to_row)['preds']\n",
    "df_test['preds_rnn'] = test_preds.apply(genre_enc.decode)\n",
    "assert (df_test['labels'].apply(genre_enc.encode) != 27).all()\n",
    "#df_test['preds1'] = prediction_table(testdataloader, rnn_model)['preds'].apply(genre_enc.decode)\n",
    "df_test"
   ]
  },
  {
   "cell_type": "code",
   "execution_count": 87,
   "id": "ad628538",
   "metadata": {
    "ExecuteTime": {
     "end_time": "2025-09-28T15:05:25.785090Z",
     "start_time": "2025-09-28T15:05:25.765292Z"
    }
   },
   "outputs": [
    {
     "data": {
      "text/plain": [
       "'Угадано 6 из 21: accuracy = 0.286'"
      ]
     },
     "execution_count": 87,
     "metadata": {},
     "output_type": "execute_result"
    }
   ],
   "source": [
    "TP = (df_test.preds_rnn == df_test.labels).sum()\n",
    "f'Угадано {TP} из {len(df_test)}: accuracy = {TP/len(df_test):.3f}'"
   ]
  },
  {
   "cell_type": "markdown",
   "id": "bf531663",
   "metadata": {},
   "source": [
    "## RNN + Attention"
   ]
  },
  {
   "cell_type": "markdown",
   "id": "2089a92d",
   "metadata": {},
   "source": [
    "Модель RNN с GRU-слоями и Multihead-attention-слоем после:\n",
    " - NET_CLASS = 'GRU'\n",
    " - HIDDEN_DIM = 128\n",
    " - DROPOUT = 0.1\n",
    " - DROPOUT_LIN = 0.2\n",
    " - N_LAYERS = 2\n",
    " - N_HEAD_S = 4\n",
    "\n",
    "Получены метрики:\n",
    " - Train:  f1_macro = 0.319\n",
    " - Validation:     f1_macro = 0.256\n",
    "\n",
    "Best checkpoints with this metric was saved to 'GRU_l2_h128_att4_ep25_best.pt' at epoch 24"
   ]
  },
  {
   "cell_type": "code",
   "execution_count": 88,
   "id": "cb208438",
   "metadata": {
    "ExecuteTime": {
     "end_time": "2025-09-28T15:05:25.898993Z",
     "start_time": "2025-09-28T15:05:25.786502Z"
    }
   },
   "outputs": [
    {
     "data": {
      "image/png": "[encoded data removed]",
      "text/plain": [
       "<Figure size 1000x500 with 1 Axes>"
      ]
     },
     "metadata": {},
     "output_type": "display_data"
    }
   ],
   "source": [
    "history = load_npz('history/2025-09-28_00:46:42.npz')\n",
    "rnn_att_name='GRU_l2_h128_att4_ep25'\n",
    "compare_on_plot(history, name=rnn_att_name, metric_name='f1_macro')"
   ]
  },
  {
   "cell_type": "code",
   "execution_count": 89,
   "id": "deaf0bc5",
   "metadata": {
    "ExecuteTime": {
     "end_time": "2025-09-28T15:05:25.950858Z",
     "start_time": "2025-09-28T15:05:25.901438Z"
    }
   },
   "outputs": [
    {
     "data": {
      "text/plain": [
       "<All keys matched successfully>"
      ]
     },
     "execution_count": 89,
     "metadata": {},
     "output_type": "execute_result"
    }
   ],
   "source": [
    "rnn_att_model = RNNModel(\n",
    "         300,\n",
    "         output_dim=27,\n",
    "         hidden_dim=128,\n",
    "         rnn_class='GRU',\n",
    "         bidirectional=False,\n",
    "         dropout=0,\n",
    "         dropout_lin=0,\n",
    "         n_layers=2,\n",
    "         two_dense=True,\n",
    "         n_heads = 4, # четыре головы внимания\n",
    "    ).eval()\n",
    "freeze(rnn_att_model)\n",
    "checkpoint = f\"checkpoints/{rnn_att_name}_best.pt\"\n",
    "rnn_att_model.load_state_dict(torch.load(checkpoint, map_location='cpu'))"
   ]
  },
  {
   "cell_type": "code",
   "execution_count": 90,
   "id": "078497cc",
   "metadata": {
    "ExecuteTime": {
     "end_time": "2025-09-28T15:05:56.837649Z",
     "start_time": "2025-09-28T15:05:25.952106Z"
    }
   },
   "outputs": [
    {
     "name": "stderr",
     "output_type": "stream",
     "text": [
      "100%|██████████| 424/424 [00:30<00:00, 13.74it/s]\n"
     ]
    }
   ],
   "source": [
    "out_dict = {}\n",
    "metrics_on_test = trainer.evaluation(\n",
    "    rnn_att_model,\n",
    "    valloader,\n",
    "    out_dict=out_dict,\n",
    "    metrics=[f1_macro, accuracy],\n",
    ")"
   ]
  },
  {
   "cell_type": "code",
   "execution_count": 91,
   "id": "d34f5102",
   "metadata": {
    "ExecuteTime": {
     "end_time": "2025-09-28T15:05:56.859652Z",
     "start_time": "2025-09-28T15:05:56.839889Z"
    }
   },
   "outputs": [
    {
     "name": "stdout",
     "output_type": "stream",
     "text": [
      "On validation data: F1 (macro) = 0.254\n",
      "On validation data: accuracy = 0.249\n"
     ]
    }
   ],
   "source": [
    "print(\"On validation data: F1 (macro) = %.3f\" % metrics_on_test[0])\n",
    "print(\"On validation data: accuracy = %.3f\" % metrics_on_test[1])"
   ]
  },
  {
   "cell_type": "markdown",
   "id": "59ed56a3",
   "metadata": {},
   "source": [
    "Метрики хуже, поскольку применяется проход по последовательности только в прямую сторону, без обратного"
   ]
  },
  {
   "cell_type": "code",
   "execution_count": 92,
   "id": "801730e9",
   "metadata": {
    "ExecuteTime": {
     "end_time": "2025-09-28T15:05:56.968425Z",
     "start_time": "2025-09-28T15:05:56.860909Z"
    }
   },
   "outputs": [
    {
     "data": {
      "text/html": [
       "<div>\n",
       "<style scoped>\n",
       "    .dataframe tbody tr th:only-of-type {\n",
       "        vertical-align: middle;\n",
       "    }\n",
       "\n",
       "    .dataframe tbody tr th {\n",
       "        vertical-align: top;\n",
       "    }\n",
       "\n",
       "    .dataframe thead th {\n",
       "        text-align: right;\n",
       "    }\n",
       "</style>\n",
       "<table border=\"1\" class=\"dataframe\">\n",
       "  <thead>\n",
       "    <tr style=\"text-align: right;\">\n",
       "      <th></th>\n",
       "      <th>name</th>\n",
       "      <th>genre</th>\n",
       "      <th>text</th>\n",
       "      <th>preds_rnn</th>\n",
       "      <th>preds_rnn_att</th>\n",
       "    </tr>\n",
       "  </thead>\n",
       "  <tbody>\n",
       "    <tr>\n",
       "      <th>0</th>\n",
       "      <td>Tony &amp; the Swordfish Tattoo (2017)</td>\n",
       "      <td>short</td>\n",
       "      <td>Tony Campi, a recreational fisherman, tried f...</td>\n",
       "      <td>documentary</td>\n",
       "      <td>documentary</td>\n",
       "    </tr>\n",
       "    <tr>\n",
       "      <th>1</th>\n",
       "      <td>Two Toes: The Coyote Legend of Green River (?...</td>\n",
       "      <td>drama</td>\n",
       "      <td>At the height of the Great Depression, after ...</td>\n",
       "      <td>reality-tv</td>\n",
       "      <td>game-show</td>\n",
       "    </tr>\n",
       "    <tr>\n",
       "      <th>2</th>\n",
       "      <td>Le silence de la peur (2002)</td>\n",
       "      <td>drama</td>\n",
       "      <td>Children are the victims of rackets and viole...</td>\n",
       "      <td>mystery</td>\n",
       "      <td>mystery</td>\n",
       "    </tr>\n",
       "    <tr>\n",
       "      <th>3</th>\n",
       "      <td>Intertwined (2015)</td>\n",
       "      <td>short</td>\n",
       "      <td>Chasing dreams. Leo Armstrong born a dancer h...</td>\n",
       "      <td>western</td>\n",
       "      <td>adventure</td>\n",
       "    </tr>\n",
       "    <tr>\n",
       "      <th>4</th>\n",
       "      <td>Q.L.U.E: The Forgotten Man Part Two (2014)</td>\n",
       "      <td>action</td>\n",
       "      <td>Shortly after Ace Queens' assassination, Davi...</td>\n",
       "      <td>biography</td>\n",
       "      <td>biography</td>\n",
       "    </tr>\n",
       "    <tr>\n",
       "      <th>5</th>\n",
       "      <td>Santoro O Homem e Sua Música (2015)</td>\n",
       "      <td>documentary</td>\n",
       "      <td>Santoro- The Man and His Music (75 ', color a...</td>\n",
       "      <td>horror</td>\n",
       "      <td>horror</td>\n",
       "    </tr>\n",
       "    <tr>\n",
       "      <th>6</th>\n",
       "      <td>Satte Farben vor Schwarz (2010)</td>\n",
       "      <td>drama</td>\n",
       "      <td>The love story of an elderly couple. Having a...</td>\n",
       "      <td>crime</td>\n",
       "      <td>action</td>\n",
       "    </tr>\n",
       "    <tr>\n",
       "      <th>7</th>\n",
       "      <td>\"Kicsi ország, kicsi Kína\" (2015)</td>\n",
       "      <td>documentary</td>\n",
       "      <td>In 1989, Hungary opened its doors to the Chin...</td>\n",
       "      <td>family</td>\n",
       "      <td>family</td>\n",
       "    </tr>\n",
       "    <tr>\n",
       "      <th>8</th>\n",
       "      <td>Reisen ins Leben (1996)</td>\n",
       "      <td>documentary</td>\n",
       "      <td>Journey into Life follows the struggles of th...</td>\n",
       "      <td>documentary</td>\n",
       "      <td>biography</td>\n",
       "    </tr>\n",
       "    <tr>\n",
       "      <th>9</th>\n",
       "      <td>The Bookfair Murders (2000)</td>\n",
       "      <td>mystery</td>\n",
       "      <td>Halifax Chronicle-Herald newspaper reporter J...</td>\n",
       "      <td>adult</td>\n",
       "      <td>comedy</td>\n",
       "    </tr>\n",
       "  </tbody>\n",
       "</table>\n",
       "</div>"
      ],
      "text/plain": [
       "                                                name        genre  \\\n",
       "0                Tony & the Swordfish Tattoo (2017)         short   \n",
       "1   Two Toes: The Coyote Legend of Green River (?...        drama   \n",
       "2                      Le silence de la peur (2002)         drama   \n",
       "3                                Intertwined (2015)         short   \n",
       "4        Q.L.U.E: The Forgotten Man Part Two (2014)        action   \n",
       "5               Santoro O Homem e Sua Música (2015)   documentary   \n",
       "6                   Satte Farben vor Schwarz (2010)         drama   \n",
       "7                 \"Kicsi ország, kicsi Kína\" (2015)   documentary   \n",
       "8                           Reisen ins Leben (1996)   documentary   \n",
       "9                       The Bookfair Murders (2000)       mystery   \n",
       "\n",
       "                                                text    preds_rnn  \\\n",
       "0   Tony Campi, a recreational fisherman, tried f...  documentary   \n",
       "1   At the height of the Great Depression, after ...   reality-tv   \n",
       "2   Children are the victims of rackets and viole...      mystery   \n",
       "3   Chasing dreams. Leo Armstrong born a dancer h...      western   \n",
       "4   Shortly after Ace Queens' assassination, Davi...    biography   \n",
       "5   Santoro- The Man and His Music (75 ', color a...       horror   \n",
       "6   The love story of an elderly couple. Having a...        crime   \n",
       "7   In 1989, Hungary opened its doors to the Chin...       family   \n",
       "8   Journey into Life follows the struggles of th...  documentary   \n",
       "9   Halifax Chronicle-Herald newspaper reporter J...        adult   \n",
       "\n",
       "  preds_rnn_att  \n",
       "0   documentary  \n",
       "1     game-show  \n",
       "2       mystery  \n",
       "3     adventure  \n",
       "4     biography  \n",
       "5        horror  \n",
       "6        action  \n",
       "7        family  \n",
       "8     biography  \n",
       "9        comedy  "
      ]
     },
     "execution_count": 92,
     "metadata": {},
     "output_type": "execute_result"
    }
   ],
   "source": [
    "val_preds = prediction_table(valloader, rnn_att_model, from_row=from_row, to_row=to_row_val)['preds']\n",
    "df_val['preds_rnn_att'] = val_preds.apply(genre_enc.decode)\n",
    "df_val"
   ]
  },
  {
   "cell_type": "code",
   "execution_count": 93,
   "id": "27b36757",
   "metadata": {
    "ExecuteTime": {
     "end_time": "2025-09-28T15:05:57.130441Z",
     "start_time": "2025-09-28T15:05:56.970195Z"
    },
    "scrolled": false
   },
   "outputs": [
    {
     "data": {
      "text/html": [
       "<div>\n",
       "<style scoped>\n",
       "    .dataframe tbody tr th:only-of-type {\n",
       "        vertical-align: middle;\n",
       "    }\n",
       "\n",
       "    .dataframe tbody tr th {\n",
       "        vertical-align: top;\n",
       "    }\n",
       "\n",
       "    .dataframe thead th {\n",
       "        text-align: right;\n",
       "    }\n",
       "</style>\n",
       "<table border=\"1\" class=\"dataframe\">\n",
       "  <thead>\n",
       "    <tr style=\"text-align: right;\">\n",
       "      <th></th>\n",
       "      <th>name</th>\n",
       "      <th>text</th>\n",
       "      <th>labels</th>\n",
       "      <th>preds_rnn</th>\n",
       "      <th>preds_rnn_att</th>\n",
       "    </tr>\n",
       "  </thead>\n",
       "  <tbody>\n",
       "    <tr>\n",
       "      <th>0</th>\n",
       "      <td>Edgar's Lunch (1998)</td>\n",
       "      <td>L.R. Brane loves his life - his car, his apar...</td>\n",
       "      <td>thriller</td>\n",
       "      <td>thriller</td>\n",
       "      <td>sci-fi</td>\n",
       "    </tr>\n",
       "    <tr>\n",
       "      <th>1</th>\n",
       "      <td>La guerra de papá (1977)</td>\n",
       "      <td>Spain, March 1964: Quico is a very naughty ch...</td>\n",
       "      <td>comedy</td>\n",
       "      <td>drama</td>\n",
       "      <td>drama</td>\n",
       "    </tr>\n",
       "    <tr>\n",
       "      <th>2</th>\n",
       "      <td>Off the Beaten Track (2010)</td>\n",
       "      <td>One year in the life of Albin and his family ...</td>\n",
       "      <td>documentary</td>\n",
       "      <td>documentary</td>\n",
       "      <td>documentary</td>\n",
       "    </tr>\n",
       "    <tr>\n",
       "      <th>3</th>\n",
       "      <td>Meu Amigo Hindu (2015)</td>\n",
       "      <td>His father has died, he hasn't spoken with hi...</td>\n",
       "      <td>drama</td>\n",
       "      <td>family</td>\n",
       "      <td>romance</td>\n",
       "    </tr>\n",
       "    <tr>\n",
       "      <th>4</th>\n",
       "      <td>Er nu zhai (1955)</td>\n",
       "      <td>Before he was known internationally as a mart...</td>\n",
       "      <td>drama</td>\n",
       "      <td>romance</td>\n",
       "      <td>drama</td>\n",
       "    </tr>\n",
       "    <tr>\n",
       "      <th>5</th>\n",
       "      <td>Riddle Room (2016)</td>\n",
       "      <td>Emily Burns is being held captive in a room w...</td>\n",
       "      <td>horror</td>\n",
       "      <td>thriller</td>\n",
       "      <td>thriller</td>\n",
       "    </tr>\n",
       "    <tr>\n",
       "      <th>6</th>\n",
       "      <td>L'amica (1969)</td>\n",
       "      <td>The beautiful but neglected wife of a brillia...</td>\n",
       "      <td>drama</td>\n",
       "      <td>drama</td>\n",
       "      <td>romance</td>\n",
       "    </tr>\n",
       "    <tr>\n",
       "      <th>7</th>\n",
       "      <td>Ina Mina Dika (1989)</td>\n",
       "      <td>Vasu Inamdar (Ina) suffers from a disorder wh...</td>\n",
       "      <td>comedy</td>\n",
       "      <td>drama</td>\n",
       "      <td>family</td>\n",
       "    </tr>\n",
       "    <tr>\n",
       "      <th>8</th>\n",
       "      <td>Equinox Special: Britain's Tornados (2005)</td>\n",
       "      <td>An insight into the tornados that hit Kensal ...</td>\n",
       "      <td>documentary</td>\n",
       "      <td>documentary</td>\n",
       "      <td>news</td>\n",
       "    </tr>\n",
       "    <tr>\n",
       "      <th>9</th>\n",
       "      <td>Press (2011)</td>\n",
       "      <td>Press is a story of young people overwhelmed ...</td>\n",
       "      <td>drama</td>\n",
       "      <td>short</td>\n",
       "      <td>biography</td>\n",
       "    </tr>\n",
       "    <tr>\n",
       "      <th>10</th>\n",
       "      <td>The Firm Man (1975)</td>\n",
       "      <td>Not much is known about the firm for which bu...</td>\n",
       "      <td>drama</td>\n",
       "      <td>drama</td>\n",
       "      <td>thriller</td>\n",
       "    </tr>\n",
       "    <tr>\n",
       "      <th>11</th>\n",
       "      <td>Out of Here (2013/I)</td>\n",
       "      <td>After a year traveling the world, twentysomet...</td>\n",
       "      <td>drama</td>\n",
       "      <td>short</td>\n",
       "      <td>romance</td>\n",
       "    </tr>\n",
       "    <tr>\n",
       "      <th>12</th>\n",
       "      <td>Tip 2 (1990)</td>\n",
       "      <td>Young-ja initially mocks the shy, introverted...</td>\n",
       "      <td>drama</td>\n",
       "      <td>drama</td>\n",
       "      <td>romance</td>\n",
       "    </tr>\n",
       "    <tr>\n",
       "      <th>13</th>\n",
       "      <td>Hero of the Day (2012)</td>\n",
       "      <td>Mark Chambers, a down and out former professi...</td>\n",
       "      <td>drama</td>\n",
       "      <td>war</td>\n",
       "      <td>history</td>\n",
       "    </tr>\n",
       "    <tr>\n",
       "      <th>14</th>\n",
       "      <td>Das letzte Mal (2000)</td>\n",
       "      <td>On the night a husband finally brings himself...</td>\n",
       "      <td>short</td>\n",
       "      <td>adult</td>\n",
       "      <td>romance</td>\n",
       "    </tr>\n",
       "    <tr>\n",
       "      <th>15</th>\n",
       "      <td>The Man in Every Shot (2010)</td>\n",
       "      <td>Ex-Formula 1 rookie of the year and Motor Rac...</td>\n",
       "      <td>documentary</td>\n",
       "      <td>sport</td>\n",
       "      <td>sport</td>\n",
       "    </tr>\n",
       "    <tr>\n",
       "      <th>16</th>\n",
       "      <td>The Kettles on Old MacDonald's Farm (1957)</td>\n",
       "      <td>Ma and Pa do their bit to hook lumberman Brad...</td>\n",
       "      <td>comedy</td>\n",
       "      <td>musical</td>\n",
       "      <td>musical</td>\n",
       "    </tr>\n",
       "    <tr>\n",
       "      <th>17</th>\n",
       "      <td>The Patriot (1916)</td>\n",
       "      <td>Bob Wiley, a veteran and a patriot, discovers...</td>\n",
       "      <td>drama</td>\n",
       "      <td>western</td>\n",
       "      <td>western</td>\n",
       "    </tr>\n",
       "    <tr>\n",
       "      <th>18</th>\n",
       "      <td>\"The Rogue Legends Series\" (2017)</td>\n",
       "      <td>Eugen Sandow was a German strongman, circus p...</td>\n",
       "      <td>documentary</td>\n",
       "      <td>reality-tv</td>\n",
       "      <td>sport</td>\n",
       "    </tr>\n",
       "    <tr>\n",
       "      <th>19</th>\n",
       "      <td>A Case of Mistaken Identity? (2008)</td>\n",
       "      <td>Joseph Jacoby introduces himself. He's a writ...</td>\n",
       "      <td>documentary</td>\n",
       "      <td>thriller</td>\n",
       "      <td>mystery</td>\n",
       "    </tr>\n",
       "    <tr>\n",
       "      <th>20</th>\n",
       "      <td>Dinner for Three (2016)</td>\n",
       "      <td>Trevor lives alone in the middle of nowhere, ...</td>\n",
       "      <td>short</td>\n",
       "      <td>comedy</td>\n",
       "      <td>comedy</td>\n",
       "    </tr>\n",
       "  </tbody>\n",
       "</table>\n",
       "</div>"
      ],
      "text/plain": [
       "                                            name  \\\n",
       "0                          Edgar's Lunch (1998)    \n",
       "1                      La guerra de papá (1977)    \n",
       "2                   Off the Beaten Track (2010)    \n",
       "3                        Meu Amigo Hindu (2015)    \n",
       "4                             Er nu zhai (1955)    \n",
       "5                            Riddle Room (2016)    \n",
       "6                                L'amica (1969)    \n",
       "7                          Ina Mina Dika (1989)    \n",
       "8    Equinox Special: Britain's Tornados (2005)    \n",
       "9                                  Press (2011)    \n",
       "10                          The Firm Man (1975)    \n",
       "11                         Out of Here (2013/I)    \n",
       "12                                 Tip 2 (1990)    \n",
       "13                       Hero of the Day (2012)    \n",
       "14                        Das letzte Mal (2000)    \n",
       "15                 The Man in Every Shot (2010)    \n",
       "16   The Kettles on Old MacDonald's Farm (1957)    \n",
       "17                           The Patriot (1916)    \n",
       "18            \"The Rogue Legends Series\" (2017)    \n",
       "19          A Case of Mistaken Identity? (2008)    \n",
       "20                      Dinner for Three (2016)    \n",
       "\n",
       "                                                 text       labels  \\\n",
       "0    L.R. Brane loves his life - his car, his apar...     thriller   \n",
       "1    Spain, March 1964: Quico is a very naughty ch...       comedy   \n",
       "2    One year in the life of Albin and his family ...  documentary   \n",
       "3    His father has died, he hasn't spoken with hi...        drama   \n",
       "4    Before he was known internationally as a mart...        drama   \n",
       "5    Emily Burns is being held captive in a room w...       horror   \n",
       "6    The beautiful but neglected wife of a brillia...        drama   \n",
       "7    Vasu Inamdar (Ina) suffers from a disorder wh...       comedy   \n",
       "8    An insight into the tornados that hit Kensal ...  documentary   \n",
       "9    Press is a story of young people overwhelmed ...        drama   \n",
       "10   Not much is known about the firm for which bu...        drama   \n",
       "11   After a year traveling the world, twentysomet...        drama   \n",
       "12   Young-ja initially mocks the shy, introverted...        drama   \n",
       "13   Mark Chambers, a down and out former professi...        drama   \n",
       "14   On the night a husband finally brings himself...        short   \n",
       "15   Ex-Formula 1 rookie of the year and Motor Rac...  documentary   \n",
       "16   Ma and Pa do their bit to hook lumberman Brad...       comedy   \n",
       "17   Bob Wiley, a veteran and a patriot, discovers...        drama   \n",
       "18   Eugen Sandow was a German strongman, circus p...  documentary   \n",
       "19   Joseph Jacoby introduces himself. He's a writ...  documentary   \n",
       "20   Trevor lives alone in the middle of nowhere, ...        short   \n",
       "\n",
       "      preds_rnn preds_rnn_att  \n",
       "0      thriller        sci-fi  \n",
       "1         drama         drama  \n",
       "2   documentary   documentary  \n",
       "3        family       romance  \n",
       "4       romance         drama  \n",
       "5      thriller      thriller  \n",
       "6         drama       romance  \n",
       "7         drama        family  \n",
       "8   documentary          news  \n",
       "9         short     biography  \n",
       "10        drama      thriller  \n",
       "11        short       romance  \n",
       "12        drama       romance  \n",
       "13          war       history  \n",
       "14        adult       romance  \n",
       "15        sport         sport  \n",
       "16      musical       musical  \n",
       "17      western       western  \n",
       "18   reality-tv         sport  \n",
       "19     thriller       mystery  \n",
       "20       comedy        comedy  "
      ]
     },
     "execution_count": 93,
     "metadata": {},
     "output_type": "execute_result"
    }
   ],
   "source": [
    "test_preds = prediction_table(testloader, rnn_att_model, from_row=from_row, to_row=to_row)['preds']\n",
    "df_test['preds_rnn_att'] = test_preds.apply(genre_enc.decode)\n",
    "df_test"
   ]
  },
  {
   "cell_type": "code",
   "execution_count": 94,
   "id": "e078db6c",
   "metadata": {
    "ExecuteTime": {
     "end_time": "2025-09-28T15:05:57.151768Z",
     "start_time": "2025-09-28T15:05:57.131684Z"
    }
   },
   "outputs": [
    {
     "data": {
      "text/plain": [
       "'Угадано 2 из 21: accuracy = 0.095'"
      ]
     },
     "execution_count": 94,
     "metadata": {},
     "output_type": "execute_result"
    }
   ],
   "source": [
    "TP = (df_test.preds_rnn_att == df_test.labels).sum()\n",
    "f'Угадано {TP} из {len(df_test)}: accuracy = {TP/len(df_test):.3f}'"
   ]
  },
  {
   "cell_type": "markdown",
   "id": "f041e10e",
   "metadata": {},
   "source": [
    "Не повезло"
   ]
  },
  {
   "cell_type": "markdown",
   "id": "018fb9bc",
   "metadata": {},
   "source": [
    "## Transformer"
   ]
  },
  {
   "cell_type": "markdown",
   "id": "a78f504a",
   "metadata": {},
   "source": [
    "Трансформер:\n",
    " - NET_CLASS = 'transformer'\n",
    " - HIDDEN_DIM = 1200\n",
    " - DROPOUT = 0.1\n",
    " - DROPOUT_LIN = 0.2\n",
    " - N_LAYERS = 2\n",
    " - N_HEAD_S = 4\n",
    "\n",
    "Получены метрики:\n",
    " - Train:  f1_macro = 0.712\n",
    " - Validation:     f1_macro = 0.353\n",
    "\n",
    "Best checkpoints with this metric was saved to 'transformer_l2_h1200_att4_ep25_best.pt' at epoch 23"
   ]
  },
  {
   "cell_type": "code",
   "execution_count": 95,
   "id": "6c69ccff",
   "metadata": {
    "ExecuteTime": {
     "end_time": "2025-09-28T15:05:57.268625Z",
     "start_time": "2025-09-28T15:05:57.153319Z"
    }
   },
   "outputs": [
    {
     "data": {
      "image/png": "[encoded data removed]",
      "text/plain": [
       "<Figure size 1000x500 with 1 Axes>"
      ]
     },
     "metadata": {},
     "output_type": "display_data"
    }
   ],
   "source": [
    "history = load_npz('history/2025-09-28_00:08:24.npz')\n",
    "tr_name='transformer_l2_h1200_att4_ep25'\n",
    "compare_on_plot(history, name=tr_name, metric_name='f1_macro')"
   ]
  },
  {
   "cell_type": "markdown",
   "id": "5b092e07",
   "metadata": {},
   "source": [
    "Выглядит страшно, но на валидации метрика выше, чем при бóльшем dropout"
   ]
  },
  {
   "cell_type": "code",
   "execution_count": 96,
   "id": "cdbe834d",
   "metadata": {
    "ExecuteTime": {
     "end_time": "2025-09-28T15:05:57.348244Z",
     "start_time": "2025-09-28T15:05:57.269966Z"
    }
   },
   "outputs": [
    {
     "data": {
      "text/plain": [
       "<All keys matched successfully>"
      ]
     },
     "execution_count": 96,
     "metadata": {},
     "output_type": "execute_result"
    }
   ],
   "source": [
    "tr_model = TransformerClassifier(\n",
    "            num_classes=27,\n",
    "            embedding_dim=300,\n",
    "            n_heads=4,\n",
    "            num_layers=2,\n",
    "            dim_feedforward=1200,\n",
    "            max_seq_len=dataloader.dataset.max_length,\n",
    "            dropout=0,\n",
    "            dropout_lin=0,\n",
    "            add_cls=True, # с токеном [CLS] в начеле последовательности\n",
    "            final_attention=True, # со слоем MultiheadAttention после трансформера\n",
    "        )\n",
    "\n",
    "freeze(tr_model)\n",
    "checkpoint = f\"checkpoints/{tr_name}_best.pt\"\n",
    "tr_model.load_state_dict(torch.load(checkpoint, map_location='cpu'))"
   ]
  },
  {
   "cell_type": "code",
   "execution_count": 97,
   "id": "2769e58b",
   "metadata": {
    "ExecuteTime": {
     "end_time": "2025-09-28T15:09:21.446091Z",
     "start_time": "2025-09-28T15:05:57.349400Z"
    }
   },
   "outputs": [
    {
     "name": "stderr",
     "output_type": "stream",
     "text": [
      "  0%|          | 0/424 [00:00<?, ?it/s]/home/silant/.local/lib/python3.10/site-packages/torch/nn/modules/transformer.py:408: UserWarning: The PyTorch API of nested tensors is in prototype stage and will change in the near future. (Triggered internally at ../aten/src/ATen/NestedTensorImpl.cpp:178.)\n",
      "  output = torch._nested_tensor_from_mask(output, src_key_padding_mask.logical_not(), mask_check=False)\n",
      "100%|██████████| 424/424 [03:24<00:00,  2.08it/s]"
     ]
    },
    {
     "name": "stdout",
     "output_type": "stream",
     "text": [
      "On validation data: F1 (macro) = 0.352\n",
      "On validation data: accuracy = 0.478\n"
     ]
    },
    {
     "name": "stderr",
     "output_type": "stream",
     "text": [
      "\n"
     ]
    }
   ],
   "source": [
    "out_dict = {}\n",
    "metrics_on_test = trainer.evaluation(\n",
    "    tr_model,\n",
    "    valloader,\n",
    "    out_dict=out_dict,\n",
    "    metrics=[f1_macro, accuracy],\n",
    ")\n",
    "print(\"On validation data: F1 (macro) = %.3f\" % metrics_on_test[0])\n",
    "print(\"On validation data: accuracy = %.3f\" % metrics_on_test[1])"
   ]
  },
  {
   "cell_type": "code",
   "execution_count": 101,
   "id": "a3deb1f6",
   "metadata": {
    "ExecuteTime": {
     "end_time": "2025-09-28T15:13:59.319613Z",
     "start_time": "2025-09-28T15:13:58.923787Z"
    }
   },
   "outputs": [
    {
     "data": {
      "text/html": [
       "<div>\n",
       "<style scoped>\n",
       "    .dataframe tbody tr th:only-of-type {\n",
       "        vertical-align: middle;\n",
       "    }\n",
       "\n",
       "    .dataframe tbody tr th {\n",
       "        vertical-align: top;\n",
       "    }\n",
       "\n",
       "    .dataframe thead th {\n",
       "        text-align: right;\n",
       "    }\n",
       "</style>\n",
       "<table border=\"1\" class=\"dataframe\">\n",
       "  <thead>\n",
       "    <tr style=\"text-align: right;\">\n",
       "      <th></th>\n",
       "      <th>name</th>\n",
       "      <th>genre</th>\n",
       "      <th>text</th>\n",
       "      <th>preds_rnn</th>\n",
       "      <th>preds_rnn_att</th>\n",
       "      <th>preds_tr</th>\n",
       "    </tr>\n",
       "  </thead>\n",
       "  <tbody>\n",
       "    <tr>\n",
       "      <th>0</th>\n",
       "      <td>Tony &amp; the Swordfish Tattoo (2017)</td>\n",
       "      <td>short</td>\n",
       "      <td>Tony Campi, a recreational fisherman, tried f...</td>\n",
       "      <td>documentary</td>\n",
       "      <td>documentary</td>\n",
       "      <td>documentary</td>\n",
       "    </tr>\n",
       "    <tr>\n",
       "      <th>1</th>\n",
       "      <td>Two Toes: The Coyote Legend of Green River (?...</td>\n",
       "      <td>drama</td>\n",
       "      <td>At the height of the Great Depression, after ...</td>\n",
       "      <td>reality-tv</td>\n",
       "      <td>game-show</td>\n",
       "      <td>reality-tv</td>\n",
       "    </tr>\n",
       "    <tr>\n",
       "      <th>2</th>\n",
       "      <td>Le silence de la peur (2002)</td>\n",
       "      <td>drama</td>\n",
       "      <td>Children are the victims of rackets and viole...</td>\n",
       "      <td>mystery</td>\n",
       "      <td>mystery</td>\n",
       "      <td>thriller</td>\n",
       "    </tr>\n",
       "    <tr>\n",
       "      <th>3</th>\n",
       "      <td>Intertwined (2015)</td>\n",
       "      <td>short</td>\n",
       "      <td>Chasing dreams. Leo Armstrong born a dancer h...</td>\n",
       "      <td>western</td>\n",
       "      <td>adventure</td>\n",
       "      <td>drama</td>\n",
       "    </tr>\n",
       "    <tr>\n",
       "      <th>4</th>\n",
       "      <td>Q.L.U.E: The Forgotten Man Part Two (2014)</td>\n",
       "      <td>action</td>\n",
       "      <td>Shortly after Ace Queens' assassination, Davi...</td>\n",
       "      <td>biography</td>\n",
       "      <td>biography</td>\n",
       "      <td>documentary</td>\n",
       "    </tr>\n",
       "    <tr>\n",
       "      <th>5</th>\n",
       "      <td>Santoro O Homem e Sua Música (2015)</td>\n",
       "      <td>documentary</td>\n",
       "      <td>Santoro- The Man and His Music (75 ', color a...</td>\n",
       "      <td>horror</td>\n",
       "      <td>horror</td>\n",
       "      <td>thriller</td>\n",
       "    </tr>\n",
       "    <tr>\n",
       "      <th>6</th>\n",
       "      <td>Satte Farben vor Schwarz (2010)</td>\n",
       "      <td>drama</td>\n",
       "      <td>The love story of an elderly couple. Having a...</td>\n",
       "      <td>crime</td>\n",
       "      <td>action</td>\n",
       "      <td>crime</td>\n",
       "    </tr>\n",
       "    <tr>\n",
       "      <th>7</th>\n",
       "      <td>\"Kicsi ország, kicsi Kína\" (2015)</td>\n",
       "      <td>documentary</td>\n",
       "      <td>In 1989, Hungary opened its doors to the Chin...</td>\n",
       "      <td>family</td>\n",
       "      <td>family</td>\n",
       "      <td>documentary</td>\n",
       "    </tr>\n",
       "    <tr>\n",
       "      <th>8</th>\n",
       "      <td>Reisen ins Leben (1996)</td>\n",
       "      <td>documentary</td>\n",
       "      <td>Journey into Life follows the struggles of th...</td>\n",
       "      <td>documentary</td>\n",
       "      <td>biography</td>\n",
       "      <td>documentary</td>\n",
       "    </tr>\n",
       "    <tr>\n",
       "      <th>9</th>\n",
       "      <td>The Bookfair Murders (2000)</td>\n",
       "      <td>mystery</td>\n",
       "      <td>Halifax Chronicle-Herald newspaper reporter J...</td>\n",
       "      <td>adult</td>\n",
       "      <td>comedy</td>\n",
       "      <td>drama</td>\n",
       "    </tr>\n",
       "  </tbody>\n",
       "</table>\n",
       "</div>"
      ],
      "text/plain": [
       "                                                name        genre  \\\n",
       "0                Tony & the Swordfish Tattoo (2017)         short   \n",
       "1   Two Toes: The Coyote Legend of Green River (?...        drama   \n",
       "2                      Le silence de la peur (2002)         drama   \n",
       "3                                Intertwined (2015)         short   \n",
       "4        Q.L.U.E: The Forgotten Man Part Two (2014)        action   \n",
       "5               Santoro O Homem e Sua Música (2015)   documentary   \n",
       "6                   Satte Farben vor Schwarz (2010)         drama   \n",
       "7                 \"Kicsi ország, kicsi Kína\" (2015)   documentary   \n",
       "8                           Reisen ins Leben (1996)   documentary   \n",
       "9                       The Bookfair Murders (2000)       mystery   \n",
       "\n",
       "                                                text    preds_rnn  \\\n",
       "0   Tony Campi, a recreational fisherman, tried f...  documentary   \n",
       "1   At the height of the Great Depression, after ...   reality-tv   \n",
       "2   Children are the victims of rackets and viole...      mystery   \n",
       "3   Chasing dreams. Leo Armstrong born a dancer h...      western   \n",
       "4   Shortly after Ace Queens' assassination, Davi...    biography   \n",
       "5   Santoro- The Man and His Music (75 ', color a...       horror   \n",
       "6   The love story of an elderly couple. Having a...        crime   \n",
       "7   In 1989, Hungary opened its doors to the Chin...       family   \n",
       "8   Journey into Life follows the struggles of th...  documentary   \n",
       "9   Halifax Chronicle-Herald newspaper reporter J...        adult   \n",
       "\n",
       "  preds_rnn_att     preds_tr  \n",
       "0   documentary  documentary  \n",
       "1     game-show   reality-tv  \n",
       "2       mystery     thriller  \n",
       "3     adventure        drama  \n",
       "4     biography  documentary  \n",
       "5        horror     thriller  \n",
       "6        action        crime  \n",
       "7        family  documentary  \n",
       "8     biography  documentary  \n",
       "9        comedy        drama  "
      ]
     },
     "execution_count": 101,
     "metadata": {},
     "output_type": "execute_result"
    }
   ],
   "source": [
    "val_preds = prediction_table(valloader, tr_model, from_row=from_row, to_row=to_row_val)['preds']\n",
    "df_val['preds_tr'] = val_preds.apply(genre_enc.decode)\n",
    "df_val"
   ]
  },
  {
   "cell_type": "code",
   "execution_count": 109,
   "id": "b5869f76",
   "metadata": {
    "ExecuteTime": {
     "end_time": "2025-09-28T15:15:28.609933Z",
     "start_time": "2025-09-28T15:15:28.355820Z"
    },
    "scrolled": false
   },
   "outputs": [
    {
     "data": {
      "text/html": [
       "<div>\n",
       "<style scoped>\n",
       "    .dataframe tbody tr th:only-of-type {\n",
       "        vertical-align: middle;\n",
       "    }\n",
       "\n",
       "    .dataframe tbody tr th {\n",
       "        vertical-align: top;\n",
       "    }\n",
       "\n",
       "    .dataframe thead th {\n",
       "        text-align: right;\n",
       "    }\n",
       "</style>\n",
       "<table border=\"1\" class=\"dataframe\">\n",
       "  <thead>\n",
       "    <tr style=\"text-align: right;\">\n",
       "      <th></th>\n",
       "      <th>name</th>\n",
       "      <th>text</th>\n",
       "      <th>labels</th>\n",
       "      <th>preds_rnn</th>\n",
       "      <th>preds_rnn_att</th>\n",
       "      <th>preds_tr</th>\n",
       "    </tr>\n",
       "  </thead>\n",
       "  <tbody>\n",
       "    <tr>\n",
       "      <th>0</th>\n",
       "      <td>Edgar's Lunch (1998)</td>\n",
       "      <td>L.R. Brane loves his life - his car, his apar...</td>\n",
       "      <td>thriller</td>\n",
       "      <td>thriller</td>\n",
       "      <td>sci-fi</td>\n",
       "      <td>thriller</td>\n",
       "    </tr>\n",
       "    <tr>\n",
       "      <th>1</th>\n",
       "      <td>La guerra de papá (1977)</td>\n",
       "      <td>Spain, March 1964: Quico is a very naughty ch...</td>\n",
       "      <td>comedy</td>\n",
       "      <td>drama</td>\n",
       "      <td>drama</td>\n",
       "      <td>comedy</td>\n",
       "    </tr>\n",
       "    <tr>\n",
       "      <th>2</th>\n",
       "      <td>Off the Beaten Track (2010)</td>\n",
       "      <td>One year in the life of Albin and his family ...</td>\n",
       "      <td>documentary</td>\n",
       "      <td>documentary</td>\n",
       "      <td>documentary</td>\n",
       "      <td>documentary</td>\n",
       "    </tr>\n",
       "    <tr>\n",
       "      <th>3</th>\n",
       "      <td>Meu Amigo Hindu (2015)</td>\n",
       "      <td>His father has died, he hasn't spoken with hi...</td>\n",
       "      <td>drama</td>\n",
       "      <td>family</td>\n",
       "      <td>romance</td>\n",
       "      <td>drama</td>\n",
       "    </tr>\n",
       "    <tr>\n",
       "      <th>4</th>\n",
       "      <td>Er nu zhai (1955)</td>\n",
       "      <td>Before he was known internationally as a mart...</td>\n",
       "      <td>drama</td>\n",
       "      <td>romance</td>\n",
       "      <td>drama</td>\n",
       "      <td>comedy</td>\n",
       "    </tr>\n",
       "    <tr>\n",
       "      <th>5</th>\n",
       "      <td>Riddle Room (2016)</td>\n",
       "      <td>Emily Burns is being held captive in a room w...</td>\n",
       "      <td>horror</td>\n",
       "      <td>thriller</td>\n",
       "      <td>thriller</td>\n",
       "      <td>sci-fi</td>\n",
       "    </tr>\n",
       "    <tr>\n",
       "      <th>6</th>\n",
       "      <td>L'amica (1969)</td>\n",
       "      <td>The beautiful but neglected wife of a brillia...</td>\n",
       "      <td>drama</td>\n",
       "      <td>drama</td>\n",
       "      <td>romance</td>\n",
       "      <td>adult</td>\n",
       "    </tr>\n",
       "    <tr>\n",
       "      <th>7</th>\n",
       "      <td>Ina Mina Dika (1989)</td>\n",
       "      <td>Vasu Inamdar (Ina) suffers from a disorder wh...</td>\n",
       "      <td>comedy</td>\n",
       "      <td>drama</td>\n",
       "      <td>family</td>\n",
       "      <td>drama</td>\n",
       "    </tr>\n",
       "    <tr>\n",
       "      <th>8</th>\n",
       "      <td>Equinox Special: Britain's Tornados (2005)</td>\n",
       "      <td>An insight into the tornados that hit Kensal ...</td>\n",
       "      <td>documentary</td>\n",
       "      <td>documentary</td>\n",
       "      <td>news</td>\n",
       "      <td>sport</td>\n",
       "    </tr>\n",
       "    <tr>\n",
       "      <th>9</th>\n",
       "      <td>Press (2011)</td>\n",
       "      <td>Press is a story of young people overwhelmed ...</td>\n",
       "      <td>drama</td>\n",
       "      <td>short</td>\n",
       "      <td>biography</td>\n",
       "      <td>documentary</td>\n",
       "    </tr>\n",
       "    <tr>\n",
       "      <th>10</th>\n",
       "      <td>The Firm Man (1975)</td>\n",
       "      <td>Not much is known about the firm for which bu...</td>\n",
       "      <td>drama</td>\n",
       "      <td>drama</td>\n",
       "      <td>thriller</td>\n",
       "      <td>thriller</td>\n",
       "    </tr>\n",
       "    <tr>\n",
       "      <th>11</th>\n",
       "      <td>Out of Here (2013/I)</td>\n",
       "      <td>After a year traveling the world, twentysomet...</td>\n",
       "      <td>drama</td>\n",
       "      <td>short</td>\n",
       "      <td>romance</td>\n",
       "      <td>drama</td>\n",
       "    </tr>\n",
       "    <tr>\n",
       "      <th>12</th>\n",
       "      <td>Tip 2 (1990)</td>\n",
       "      <td>Young-ja initially mocks the shy, introverted...</td>\n",
       "      <td>drama</td>\n",
       "      <td>drama</td>\n",
       "      <td>romance</td>\n",
       "      <td>drama</td>\n",
       "    </tr>\n",
       "    <tr>\n",
       "      <th>13</th>\n",
       "      <td>Hero of the Day (2012)</td>\n",
       "      <td>Mark Chambers, a down and out former professi...</td>\n",
       "      <td>drama</td>\n",
       "      <td>war</td>\n",
       "      <td>history</td>\n",
       "      <td>sport</td>\n",
       "    </tr>\n",
       "    <tr>\n",
       "      <th>14</th>\n",
       "      <td>Das letzte Mal (2000)</td>\n",
       "      <td>On the night a husband finally brings himself...</td>\n",
       "      <td>short</td>\n",
       "      <td>adult</td>\n",
       "      <td>romance</td>\n",
       "      <td>comedy</td>\n",
       "    </tr>\n",
       "    <tr>\n",
       "      <th>15</th>\n",
       "      <td>The Man in Every Shot (2010)</td>\n",
       "      <td>Ex-Formula 1 rookie of the year and Motor Rac...</td>\n",
       "      <td>documentary</td>\n",
       "      <td>sport</td>\n",
       "      <td>sport</td>\n",
       "      <td>sport</td>\n",
       "    </tr>\n",
       "    <tr>\n",
       "      <th>16</th>\n",
       "      <td>The Kettles on Old MacDonald's Farm (1957)</td>\n",
       "      <td>Ma and Pa do their bit to hook lumberman Brad...</td>\n",
       "      <td>comedy</td>\n",
       "      <td>musical</td>\n",
       "      <td>musical</td>\n",
       "      <td>comedy</td>\n",
       "    </tr>\n",
       "    <tr>\n",
       "      <th>17</th>\n",
       "      <td>The Patriot (1916)</td>\n",
       "      <td>Bob Wiley, a veteran and a patriot, discovers...</td>\n",
       "      <td>drama</td>\n",
       "      <td>western</td>\n",
       "      <td>western</td>\n",
       "      <td>western</td>\n",
       "    </tr>\n",
       "    <tr>\n",
       "      <th>18</th>\n",
       "      <td>\"The Rogue Legends Series\" (2017)</td>\n",
       "      <td>Eugen Sandow was a German strongman, circus p...</td>\n",
       "      <td>documentary</td>\n",
       "      <td>reality-tv</td>\n",
       "      <td>sport</td>\n",
       "      <td>sport</td>\n",
       "    </tr>\n",
       "    <tr>\n",
       "      <th>19</th>\n",
       "      <td>A Case of Mistaken Identity? (2008)</td>\n",
       "      <td>Joseph Jacoby introduces himself. He's a writ...</td>\n",
       "      <td>documentary</td>\n",
       "      <td>thriller</td>\n",
       "      <td>mystery</td>\n",
       "      <td>drama</td>\n",
       "    </tr>\n",
       "    <tr>\n",
       "      <th>20</th>\n",
       "      <td>Dinner for Three (2016)</td>\n",
       "      <td>Trevor lives alone in the middle of nowhere, ...</td>\n",
       "      <td>short</td>\n",
       "      <td>comedy</td>\n",
       "      <td>comedy</td>\n",
       "      <td>comedy</td>\n",
       "    </tr>\n",
       "  </tbody>\n",
       "</table>\n",
       "</div>"
      ],
      "text/plain": [
       "                                            name  \\\n",
       "0                          Edgar's Lunch (1998)    \n",
       "1                      La guerra de papá (1977)    \n",
       "2                   Off the Beaten Track (2010)    \n",
       "3                        Meu Amigo Hindu (2015)    \n",
       "4                             Er nu zhai (1955)    \n",
       "5                            Riddle Room (2016)    \n",
       "6                                L'amica (1969)    \n",
       "7                          Ina Mina Dika (1989)    \n",
       "8    Equinox Special: Britain's Tornados (2005)    \n",
       "9                                  Press (2011)    \n",
       "10                          The Firm Man (1975)    \n",
       "11                         Out of Here (2013/I)    \n",
       "12                                 Tip 2 (1990)    \n",
       "13                       Hero of the Day (2012)    \n",
       "14                        Das letzte Mal (2000)    \n",
       "15                 The Man in Every Shot (2010)    \n",
       "16   The Kettles on Old MacDonald's Farm (1957)    \n",
       "17                           The Patriot (1916)    \n",
       "18            \"The Rogue Legends Series\" (2017)    \n",
       "19          A Case of Mistaken Identity? (2008)    \n",
       "20                      Dinner for Three (2016)    \n",
       "\n",
       "                                                 text       labels  \\\n",
       "0    L.R. Brane loves his life - his car, his apar...     thriller   \n",
       "1    Spain, March 1964: Quico is a very naughty ch...       comedy   \n",
       "2    One year in the life of Albin and his family ...  documentary   \n",
       "3    His father has died, he hasn't spoken with hi...        drama   \n",
       "4    Before he was known internationally as a mart...        drama   \n",
       "5    Emily Burns is being held captive in a room w...       horror   \n",
       "6    The beautiful but neglected wife of a brillia...        drama   \n",
       "7    Vasu Inamdar (Ina) suffers from a disorder wh...       comedy   \n",
       "8    An insight into the tornados that hit Kensal ...  documentary   \n",
       "9    Press is a story of young people overwhelmed ...        drama   \n",
       "10   Not much is known about the firm for which bu...        drama   \n",
       "11   After a year traveling the world, twentysomet...        drama   \n",
       "12   Young-ja initially mocks the shy, introverted...        drama   \n",
       "13   Mark Chambers, a down and out former professi...        drama   \n",
       "14   On the night a husband finally brings himself...        short   \n",
       "15   Ex-Formula 1 rookie of the year and Motor Rac...  documentary   \n",
       "16   Ma and Pa do their bit to hook lumberman Brad...       comedy   \n",
       "17   Bob Wiley, a veteran and a patriot, discovers...        drama   \n",
       "18   Eugen Sandow was a German strongman, circus p...  documentary   \n",
       "19   Joseph Jacoby introduces himself. He's a writ...  documentary   \n",
       "20   Trevor lives alone in the middle of nowhere, ...        short   \n",
       "\n",
       "      preds_rnn preds_rnn_att     preds_tr  \n",
       "0      thriller        sci-fi     thriller  \n",
       "1         drama         drama       comedy  \n",
       "2   documentary   documentary  documentary  \n",
       "3        family       romance        drama  \n",
       "4       romance         drama       comedy  \n",
       "5      thriller      thriller       sci-fi  \n",
       "6         drama       romance        adult  \n",
       "7         drama        family        drama  \n",
       "8   documentary          news        sport  \n",
       "9         short     biography  documentary  \n",
       "10        drama      thriller     thriller  \n",
       "11        short       romance        drama  \n",
       "12        drama       romance        drama  \n",
       "13          war       history        sport  \n",
       "14        adult       romance       comedy  \n",
       "15        sport         sport        sport  \n",
       "16      musical       musical       comedy  \n",
       "17      western       western      western  \n",
       "18   reality-tv         sport        sport  \n",
       "19     thriller       mystery        drama  \n",
       "20       comedy        comedy       comedy  "
      ]
     },
     "execution_count": 109,
     "metadata": {},
     "output_type": "execute_result"
    }
   ],
   "source": [
    "test_preds = prediction_table(testloader, tr_model, from_row=from_row, to_row=to_row)['preds']\n",
    "df_test['preds_tr'] = test_preds.apply(genre_enc.decode)\n",
    "df_test"
   ]
  },
  {
   "cell_type": "code",
   "execution_count": 110,
   "id": "2a51ca32",
   "metadata": {
    "ExecuteTime": {
     "end_time": "2025-09-28T15:15:42.023136Z",
     "start_time": "2025-09-28T15:15:42.004605Z"
    }
   },
   "outputs": [
    {
     "data": {
      "text/plain": [
       "'Угадано 7 из 21: accuracy = 0.333'"
      ]
     },
     "execution_count": 110,
     "metadata": {},
     "output_type": "execute_result"
    }
   ],
   "source": [
    "TP = (df_test.preds_tr == df_test.labels).sum()\n",
    "f'Угадано {TP} из {len(df_test)}: accuracy = {TP/len(df_test):.3f}'"
   ]
  },
  {
   "cell_type": "markdown",
   "id": "c42caeb0",
   "metadata": {},
   "source": [
    "Трансформер получше."
   ]
  },
  {
   "cell_type": "code",
   "execution_count": null,
   "id": "b9ca6543",
   "metadata": {},
   "outputs": [],
   "source": []
  }
 ],
 "metadata": {
  "kernelspec": {
   "display_name": "Python 3 (ipykernel)",
   "language": "python",
   "name": "python3"
  },
  "language_info": {
   "codemirror_mode": {
    "name": "ipython",
    "version": 3
   },
   "file_extension": ".py",
   "mimetype": "text/x-python",
   "name": "python",
   "nbconvert_exporter": "python",
   "pygments_lexer": "ipython3",
   "version": "3.10.12"
  }
 },
 "nbformat": 4,
 "nbformat_minor": 5
}
